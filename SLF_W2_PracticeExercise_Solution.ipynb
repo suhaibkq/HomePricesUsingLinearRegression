{
  "cells": [
    {
      "cell_type": "markdown",
      "metadata": {
        "id": "view-in-github",
        "colab_type": "text"
      },
      "source": [
        "<a href=\"https://colab.research.google.com/github/suhaibkq/HomePricesUsingLinearRegression/blob/main/SLF_W2_PracticeExercise_Solution.ipynb\" target=\"_parent\"><img src=\"https://colab.research.google.com/assets/colab-badge.svg\" alt=\"Open In Colab\"/></a>"
      ]
    },
    {
      "cell_type": "markdown",
      "metadata": {
        "id": "AiHiiwPMGvSD"
      },
      "source": [
        "# Practice Exercise - Linear Regression Assumptions and Statistical Inference"
      ]
    },
    {
      "cell_type": "markdown",
      "metadata": {
        "id": "qxbH1RteGvSF"
      },
      "source": [
        "### Problem Statement\n",
        "\n",
        "The problem at hand is to predict the housing prices of a town or a suburb based on the features of the locality provided to us. In the process, we need to identify the most important features in the dataset. We need to employ techniques of data preprocessing and build a linear regression model that predicts the prices for us.\n",
        "\n",
        "### Data Information\n",
        "\n",
        "Each record in the database describes a Boston suburb or town. The data was drawn from the Boston Standard Metropolitan Statistical Area (SMSA) in 1970. Detailed attribute information can be found below-\n",
        "\n",
        "Attribute Information (in order):\n",
        "- CRIM: per capita crime rate by town\n",
        "- ZN: proportion of residential land zoned for lots over 25,000 sq. ft.\n",
        "- INDUS: proportion of non-retail business acres per town\n",
        "- CHAS: Charles River dummy variable (= 1 if tract bounds river; 0 otherwise)\n",
        "- NX: nitric oxides concentration (parts per 10 million)\n",
        "- RM: average number of rooms per dwelling\n",
        "- AGE: proportion of owner-occupied units built prior to 1940\n",
        "- DIS: weighted distances to five Boston employment centers\n",
        "- RAD: index of accessibility to radial highways\n",
        "- TAX: full-value property-tax rate per 10,000 dollars\n",
        "- PTRATIO: pupil-teacher ratio by town\n",
        "- LSTAT: %lower status of the population\n",
        "- MEDV: Median value of owner-occupied homes in 1000 dollars."
      ]
    },
    {
      "cell_type": "markdown",
      "metadata": {
        "id": "KfDBGotuGvSG"
      },
      "source": [
        "### Import Necessary Libraries"
      ]
    },
    {
      "cell_type": "code",
      "execution_count": null,
      "metadata": {
        "id": "pl2KMfHUGvSG",
        "outputId": "bd96d8ff-afcb-40c8-e9af-62f92e0a7219"
      },
      "outputs": [
        {
          "data": {
            "application/javascript": [
              "\n",
              "            setTimeout(function() {\n",
              "                var nbb_cell_id = 1;\n",
              "                var nbb_unformatted_code = \"# this will help in making the Python code more structured automatically (good coding practice)\\n%load_ext nb_black\\n\\n# Libraries to help with reading and manipulating data\\nimport numpy as np\\nimport pandas as pd\\n\\n# Libraries to help with data visualization\\nimport matplotlib.pyplot as plt\\nimport seaborn as sns\\n\\nsns.set()\\n\\n# split the data into train and test\\nfrom sklearn.model_selection import train_test_split\\n\\n# to build linear regression_model using statsmodels\\nimport statsmodels.api as sm\\n\\n# to check model performance\\nfrom sklearn.metrics import mean_absolute_error, mean_squared_error\\n\\n# to compute VIF\\nfrom statsmodels.stats.outliers_influence import variance_inflation_factor\";\n",
              "                var nbb_formatted_code = \"# this will help in making the Python code more structured automatically (good coding practice)\\n%load_ext nb_black\\n\\n# Libraries to help with reading and manipulating data\\nimport numpy as np\\nimport pandas as pd\\n\\n# Libraries to help with data visualization\\nimport matplotlib.pyplot as plt\\nimport seaborn as sns\\n\\nsns.set()\\n\\n# split the data into train and test\\nfrom sklearn.model_selection import train_test_split\\n\\n# to build linear regression_model using statsmodels\\nimport statsmodels.api as sm\\n\\n# to check model performance\\nfrom sklearn.metrics import mean_absolute_error, mean_squared_error\\n\\n# to compute VIF\\nfrom statsmodels.stats.outliers_influence import variance_inflation_factor\";\n",
              "                var nbb_cells = Jupyter.notebook.get_cells();\n",
              "                for (var i = 0; i < nbb_cells.length; ++i) {\n",
              "                    if (nbb_cells[i].input_prompt_number == nbb_cell_id) {\n",
              "                        if (nbb_cells[i].get_text() == nbb_unformatted_code) {\n",
              "                             nbb_cells[i].set_text(nbb_formatted_code);\n",
              "                        }\n",
              "                        break;\n",
              "                    }\n",
              "                }\n",
              "            }, 500);\n",
              "            "
            ],
            "text/plain": [
              "<IPython.core.display.Javascript object>"
            ]
          },
          "metadata": {},
          "output_type": "display_data"
        }
      ],
      "source": [
        "# this will help in making the Python code more structured automatically (good coding practice)\n",
        "%load_ext nb_black\n",
        "\n",
        "# Libraries to help with reading and manipulating data\n",
        "import numpy as np\n",
        "import pandas as pd\n",
        "\n",
        "# Libraries to help with data visualization\n",
        "import matplotlib.pyplot as plt\n",
        "import seaborn as sns\n",
        "\n",
        "sns.set()\n",
        "\n",
        "# split the data into train and test\n",
        "from sklearn.model_selection import train_test_split\n",
        "\n",
        "# to build linear regression_model using statsmodels\n",
        "import statsmodels.api as sm\n",
        "\n",
        "# to check model performance\n",
        "from sklearn.metrics import mean_absolute_error, mean_squared_error\n",
        "\n",
        "# to compute VIF\n",
        "from statsmodels.stats.outliers_influence import variance_inflation_factor"
      ]
    },
    {
      "cell_type": "markdown",
      "metadata": {
        "id": "Ke6ItoUdGvSH"
      },
      "source": [
        "### Load the dataset"
      ]
    },
    {
      "cell_type": "code",
      "execution_count": null,
      "metadata": {
        "id": "HeYB8ZPEGvSI",
        "outputId": "e52c345c-94c3-4a89-cf15-810267f2195e"
      },
      "outputs": [
        {
          "data": {
            "text/html": [
              "<div>\n",
              "<style scoped>\n",
              "    .dataframe tbody tr th:only-of-type {\n",
              "        vertical-align: middle;\n",
              "    }\n",
              "\n",
              "    .dataframe tbody tr th {\n",
              "        vertical-align: top;\n",
              "    }\n",
              "\n",
              "    .dataframe thead th {\n",
              "        text-align: right;\n",
              "    }\n",
              "</style>\n",
              "<table border=\"1\" class=\"dataframe\">\n",
              "  <thead>\n",
              "    <tr style=\"text-align: right;\">\n",
              "      <th></th>\n",
              "      <th>CRIM</th>\n",
              "      <th>ZN</th>\n",
              "      <th>INDUS</th>\n",
              "      <th>CHAS</th>\n",
              "      <th>NX</th>\n",
              "      <th>RM</th>\n",
              "      <th>AGE</th>\n",
              "      <th>DIS</th>\n",
              "      <th>RAD</th>\n",
              "      <th>TAX</th>\n",
              "      <th>PTRATIO</th>\n",
              "      <th>LSTAT</th>\n",
              "      <th>MEDV</th>\n",
              "    </tr>\n",
              "  </thead>\n",
              "  <tbody>\n",
              "    <tr>\n",
              "      <th>0</th>\n",
              "      <td>0.00632</td>\n",
              "      <td>18.0</td>\n",
              "      <td>2.31</td>\n",
              "      <td>0</td>\n",
              "      <td>0.538</td>\n",
              "      <td>6.575</td>\n",
              "      <td>65.2</td>\n",
              "      <td>4.0900</td>\n",
              "      <td>1</td>\n",
              "      <td>296</td>\n",
              "      <td>15.3</td>\n",
              "      <td>4.98</td>\n",
              "      <td>24.0</td>\n",
              "    </tr>\n",
              "    <tr>\n",
              "      <th>1</th>\n",
              "      <td>0.02731</td>\n",
              "      <td>0.0</td>\n",
              "      <td>7.07</td>\n",
              "      <td>0</td>\n",
              "      <td>0.469</td>\n",
              "      <td>6.421</td>\n",
              "      <td>78.9</td>\n",
              "      <td>4.9671</td>\n",
              "      <td>2</td>\n",
              "      <td>242</td>\n",
              "      <td>17.8</td>\n",
              "      <td>9.14</td>\n",
              "      <td>21.6</td>\n",
              "    </tr>\n",
              "    <tr>\n",
              "      <th>2</th>\n",
              "      <td>0.02729</td>\n",
              "      <td>0.0</td>\n",
              "      <td>7.07</td>\n",
              "      <td>0</td>\n",
              "      <td>0.469</td>\n",
              "      <td>7.185</td>\n",
              "      <td>61.1</td>\n",
              "      <td>4.9671</td>\n",
              "      <td>2</td>\n",
              "      <td>242</td>\n",
              "      <td>17.8</td>\n",
              "      <td>4.03</td>\n",
              "      <td>34.7</td>\n",
              "    </tr>\n",
              "    <tr>\n",
              "      <th>3</th>\n",
              "      <td>0.03237</td>\n",
              "      <td>0.0</td>\n",
              "      <td>2.18</td>\n",
              "      <td>0</td>\n",
              "      <td>0.458</td>\n",
              "      <td>6.998</td>\n",
              "      <td>45.8</td>\n",
              "      <td>6.0622</td>\n",
              "      <td>3</td>\n",
              "      <td>222</td>\n",
              "      <td>18.7</td>\n",
              "      <td>2.94</td>\n",
              "      <td>33.4</td>\n",
              "    </tr>\n",
              "    <tr>\n",
              "      <th>4</th>\n",
              "      <td>0.06905</td>\n",
              "      <td>0.0</td>\n",
              "      <td>2.18</td>\n",
              "      <td>0</td>\n",
              "      <td>0.458</td>\n",
              "      <td>7.147</td>\n",
              "      <td>54.2</td>\n",
              "      <td>6.0622</td>\n",
              "      <td>3</td>\n",
              "      <td>222</td>\n",
              "      <td>18.7</td>\n",
              "      <td>5.33</td>\n",
              "      <td>36.2</td>\n",
              "    </tr>\n",
              "  </tbody>\n",
              "</table>\n",
              "</div>"
            ],
            "text/plain": [
              "      CRIM    ZN  INDUS  CHAS     NX     RM   AGE     DIS  RAD  TAX  PTRATIO  \\\n",
              "0  0.00632  18.0   2.31     0  0.538  6.575  65.2  4.0900    1  296     15.3   \n",
              "1  0.02731   0.0   7.07     0  0.469  6.421  78.9  4.9671    2  242     17.8   \n",
              "2  0.02729   0.0   7.07     0  0.469  7.185  61.1  4.9671    2  242     17.8   \n",
              "3  0.03237   0.0   2.18     0  0.458  6.998  45.8  6.0622    3  222     18.7   \n",
              "4  0.06905   0.0   2.18     0  0.458  7.147  54.2  6.0622    3  222     18.7   \n",
              "\n",
              "   LSTAT  MEDV  \n",
              "0   4.98  24.0  \n",
              "1   9.14  21.6  \n",
              "2   4.03  34.7  \n",
              "3   2.94  33.4  \n",
              "4   5.33  36.2  "
            ]
          },
          "execution_count": 2,
          "metadata": {},
          "output_type": "execute_result"
        },
        {
          "data": {
            "application/javascript": [
              "\n",
              "            setTimeout(function() {\n",
              "                var nbb_cell_id = 2;\n",
              "                var nbb_unformatted_code = \"df = pd.read_csv(\\\"boston.csv\\\")\\ndf.head()\";\n",
              "                var nbb_formatted_code = \"df = pd.read_csv(\\\"boston.csv\\\")\\ndf.head()\";\n",
              "                var nbb_cells = Jupyter.notebook.get_cells();\n",
              "                for (var i = 0; i < nbb_cells.length; ++i) {\n",
              "                    if (nbb_cells[i].input_prompt_number == nbb_cell_id) {\n",
              "                        if (nbb_cells[i].get_text() == nbb_unformatted_code) {\n",
              "                             nbb_cells[i].set_text(nbb_formatted_code);\n",
              "                        }\n",
              "                        break;\n",
              "                    }\n",
              "                }\n",
              "            }, 500);\n",
              "            "
            ],
            "text/plain": [
              "<IPython.core.display.Javascript object>"
            ]
          },
          "metadata": {},
          "output_type": "display_data"
        }
      ],
      "source": [
        "df = pd.read_csv(\"boston.csv\")\n",
        "df.head()"
      ]
    },
    {
      "cell_type": "markdown",
      "metadata": {
        "id": "DYOH4slpGvSI"
      },
      "source": [
        "**Check the shape of the dataset**"
      ]
    },
    {
      "cell_type": "code",
      "execution_count": null,
      "metadata": {
        "id": "2xAm6cCuGvSI",
        "outputId": "eeffb45c-9573-4b6f-866a-be7f8d67093e"
      },
      "outputs": [
        {
          "data": {
            "text/plain": [
              "(506, 13)"
            ]
          },
          "execution_count": 3,
          "metadata": {},
          "output_type": "execute_result"
        },
        {
          "data": {
            "application/javascript": [
              "\n",
              "            setTimeout(function() {\n",
              "                var nbb_cell_id = 3;\n",
              "                var nbb_unformatted_code = \"df.shape\";\n",
              "                var nbb_formatted_code = \"df.shape\";\n",
              "                var nbb_cells = Jupyter.notebook.get_cells();\n",
              "                for (var i = 0; i < nbb_cells.length; ++i) {\n",
              "                    if (nbb_cells[i].input_prompt_number == nbb_cell_id) {\n",
              "                        if (nbb_cells[i].get_text() == nbb_unformatted_code) {\n",
              "                             nbb_cells[i].set_text(nbb_formatted_code);\n",
              "                        }\n",
              "                        break;\n",
              "                    }\n",
              "                }\n",
              "            }, 500);\n",
              "            "
            ],
            "text/plain": [
              "<IPython.core.display.Javascript object>"
            ]
          },
          "metadata": {},
          "output_type": "display_data"
        }
      ],
      "source": [
        "df.shape"
      ]
    },
    {
      "cell_type": "markdown",
      "metadata": {
        "id": "9f6zr83oGvSJ"
      },
      "source": [
        "**Get the info regarding column datatypes**"
      ]
    },
    {
      "cell_type": "code",
      "execution_count": null,
      "metadata": {
        "scrolled": false,
        "id": "ueqyXiYIGvSJ",
        "outputId": "99783ced-3095-40e4-f142-0fc278707f2c"
      },
      "outputs": [
        {
          "name": "stdout",
          "output_type": "stream",
          "text": [
            "<class 'pandas.core.frame.DataFrame'>\n",
            "RangeIndex: 506 entries, 0 to 505\n",
            "Data columns (total 13 columns):\n",
            " #   Column   Non-Null Count  Dtype  \n",
            "---  ------   --------------  -----  \n",
            " 0   CRIM     506 non-null    float64\n",
            " 1   ZN       506 non-null    float64\n",
            " 2   INDUS    506 non-null    float64\n",
            " 3   CHAS     506 non-null    int64  \n",
            " 4   NX       506 non-null    float64\n",
            " 5   RM       506 non-null    float64\n",
            " 6   AGE      506 non-null    float64\n",
            " 7   DIS      506 non-null    float64\n",
            " 8   RAD      506 non-null    int64  \n",
            " 9   TAX      506 non-null    int64  \n",
            " 10  PTRATIO  506 non-null    float64\n",
            " 11  LSTAT    506 non-null    float64\n",
            " 12  MEDV     506 non-null    float64\n",
            "dtypes: float64(10), int64(3)\n",
            "memory usage: 51.5 KB\n"
          ]
        },
        {
          "data": {
            "application/javascript": [
              "\n",
              "            setTimeout(function() {\n",
              "                var nbb_cell_id = 4;\n",
              "                var nbb_unformatted_code = \"df.info()\";\n",
              "                var nbb_formatted_code = \"df.info()\";\n",
              "                var nbb_cells = Jupyter.notebook.get_cells();\n",
              "                for (var i = 0; i < nbb_cells.length; ++i) {\n",
              "                    if (nbb_cells[i].input_prompt_number == nbb_cell_id) {\n",
              "                        if (nbb_cells[i].get_text() == nbb_unformatted_code) {\n",
              "                             nbb_cells[i].set_text(nbb_formatted_code);\n",
              "                        }\n",
              "                        break;\n",
              "                    }\n",
              "                }\n",
              "            }, 500);\n",
              "            "
            ],
            "text/plain": [
              "<IPython.core.display.Javascript object>"
            ]
          },
          "metadata": {},
          "output_type": "display_data"
        }
      ],
      "source": [
        "df.info()"
      ]
    },
    {
      "cell_type": "markdown",
      "metadata": {
        "id": "CIEm4OnHGvSJ"
      },
      "source": [
        "**Get summary statistics for the numerical columns**"
      ]
    },
    {
      "cell_type": "code",
      "execution_count": null,
      "metadata": {
        "id": "EaY1_RSBGvSJ",
        "outputId": "bbe7b7f3-8acd-4e6b-e4aa-2a44ca1ce54e"
      },
      "outputs": [
        {
          "data": {
            "text/html": [
              "<div>\n",
              "<style scoped>\n",
              "    .dataframe tbody tr th:only-of-type {\n",
              "        vertical-align: middle;\n",
              "    }\n",
              "\n",
              "    .dataframe tbody tr th {\n",
              "        vertical-align: top;\n",
              "    }\n",
              "\n",
              "    .dataframe thead th {\n",
              "        text-align: right;\n",
              "    }\n",
              "</style>\n",
              "<table border=\"1\" class=\"dataframe\">\n",
              "  <thead>\n",
              "    <tr style=\"text-align: right;\">\n",
              "      <th></th>\n",
              "      <th>CRIM</th>\n",
              "      <th>ZN</th>\n",
              "      <th>INDUS</th>\n",
              "      <th>CHAS</th>\n",
              "      <th>NX</th>\n",
              "      <th>RM</th>\n",
              "      <th>AGE</th>\n",
              "      <th>DIS</th>\n",
              "      <th>RAD</th>\n",
              "      <th>TAX</th>\n",
              "      <th>PTRATIO</th>\n",
              "      <th>LSTAT</th>\n",
              "      <th>MEDV</th>\n",
              "    </tr>\n",
              "  </thead>\n",
              "  <tbody>\n",
              "    <tr>\n",
              "      <th>count</th>\n",
              "      <td>506.000000</td>\n",
              "      <td>506.000000</td>\n",
              "      <td>506.000000</td>\n",
              "      <td>506.000000</td>\n",
              "      <td>506.000000</td>\n",
              "      <td>506.000000</td>\n",
              "      <td>506.000000</td>\n",
              "      <td>506.000000</td>\n",
              "      <td>506.000000</td>\n",
              "      <td>506.000000</td>\n",
              "      <td>506.000000</td>\n",
              "      <td>506.000000</td>\n",
              "      <td>506.000000</td>\n",
              "    </tr>\n",
              "    <tr>\n",
              "      <th>mean</th>\n",
              "      <td>3.613524</td>\n",
              "      <td>11.363636</td>\n",
              "      <td>11.136779</td>\n",
              "      <td>0.069170</td>\n",
              "      <td>0.554695</td>\n",
              "      <td>6.284634</td>\n",
              "      <td>68.574901</td>\n",
              "      <td>3.795043</td>\n",
              "      <td>9.549407</td>\n",
              "      <td>408.237154</td>\n",
              "      <td>18.455534</td>\n",
              "      <td>12.653063</td>\n",
              "      <td>22.532806</td>\n",
              "    </tr>\n",
              "    <tr>\n",
              "      <th>std</th>\n",
              "      <td>8.601545</td>\n",
              "      <td>23.322453</td>\n",
              "      <td>6.860353</td>\n",
              "      <td>0.253994</td>\n",
              "      <td>0.115878</td>\n",
              "      <td>0.702617</td>\n",
              "      <td>28.148861</td>\n",
              "      <td>2.105710</td>\n",
              "      <td>8.707259</td>\n",
              "      <td>168.537116</td>\n",
              "      <td>2.164946</td>\n",
              "      <td>7.141062</td>\n",
              "      <td>9.197104</td>\n",
              "    </tr>\n",
              "    <tr>\n",
              "      <th>min</th>\n",
              "      <td>0.006320</td>\n",
              "      <td>0.000000</td>\n",
              "      <td>0.460000</td>\n",
              "      <td>0.000000</td>\n",
              "      <td>0.385000</td>\n",
              "      <td>3.561000</td>\n",
              "      <td>2.900000</td>\n",
              "      <td>1.129600</td>\n",
              "      <td>1.000000</td>\n",
              "      <td>187.000000</td>\n",
              "      <td>12.600000</td>\n",
              "      <td>1.730000</td>\n",
              "      <td>5.000000</td>\n",
              "    </tr>\n",
              "    <tr>\n",
              "      <th>25%</th>\n",
              "      <td>0.082045</td>\n",
              "      <td>0.000000</td>\n",
              "      <td>5.190000</td>\n",
              "      <td>0.000000</td>\n",
              "      <td>0.449000</td>\n",
              "      <td>5.885500</td>\n",
              "      <td>45.025000</td>\n",
              "      <td>2.100175</td>\n",
              "      <td>4.000000</td>\n",
              "      <td>279.000000</td>\n",
              "      <td>17.400000</td>\n",
              "      <td>6.950000</td>\n",
              "      <td>17.025000</td>\n",
              "    </tr>\n",
              "    <tr>\n",
              "      <th>50%</th>\n",
              "      <td>0.256510</td>\n",
              "      <td>0.000000</td>\n",
              "      <td>9.690000</td>\n",
              "      <td>0.000000</td>\n",
              "      <td>0.538000</td>\n",
              "      <td>6.208500</td>\n",
              "      <td>77.500000</td>\n",
              "      <td>3.207450</td>\n",
              "      <td>5.000000</td>\n",
              "      <td>330.000000</td>\n",
              "      <td>19.050000</td>\n",
              "      <td>11.360000</td>\n",
              "      <td>21.200000</td>\n",
              "    </tr>\n",
              "    <tr>\n",
              "      <th>75%</th>\n",
              "      <td>3.677083</td>\n",
              "      <td>12.500000</td>\n",
              "      <td>18.100000</td>\n",
              "      <td>0.000000</td>\n",
              "      <td>0.624000</td>\n",
              "      <td>6.623500</td>\n",
              "      <td>94.075000</td>\n",
              "      <td>5.188425</td>\n",
              "      <td>24.000000</td>\n",
              "      <td>666.000000</td>\n",
              "      <td>20.200000</td>\n",
              "      <td>16.955000</td>\n",
              "      <td>25.000000</td>\n",
              "    </tr>\n",
              "    <tr>\n",
              "      <th>max</th>\n",
              "      <td>88.976200</td>\n",
              "      <td>100.000000</td>\n",
              "      <td>27.740000</td>\n",
              "      <td>1.000000</td>\n",
              "      <td>0.871000</td>\n",
              "      <td>8.780000</td>\n",
              "      <td>100.000000</td>\n",
              "      <td>12.126500</td>\n",
              "      <td>24.000000</td>\n",
              "      <td>711.000000</td>\n",
              "      <td>22.000000</td>\n",
              "      <td>37.970000</td>\n",
              "      <td>50.000000</td>\n",
              "    </tr>\n",
              "  </tbody>\n",
              "</table>\n",
              "</div>"
            ],
            "text/plain": [
              "             CRIM          ZN       INDUS        CHAS          NX          RM  \\\n",
              "count  506.000000  506.000000  506.000000  506.000000  506.000000  506.000000   \n",
              "mean     3.613524   11.363636   11.136779    0.069170    0.554695    6.284634   \n",
              "std      8.601545   23.322453    6.860353    0.253994    0.115878    0.702617   \n",
              "min      0.006320    0.000000    0.460000    0.000000    0.385000    3.561000   \n",
              "25%      0.082045    0.000000    5.190000    0.000000    0.449000    5.885500   \n",
              "50%      0.256510    0.000000    9.690000    0.000000    0.538000    6.208500   \n",
              "75%      3.677083   12.500000   18.100000    0.000000    0.624000    6.623500   \n",
              "max     88.976200  100.000000   27.740000    1.000000    0.871000    8.780000   \n",
              "\n",
              "              AGE         DIS         RAD         TAX     PTRATIO       LSTAT  \\\n",
              "count  506.000000  506.000000  506.000000  506.000000  506.000000  506.000000   \n",
              "mean    68.574901    3.795043    9.549407  408.237154   18.455534   12.653063   \n",
              "std     28.148861    2.105710    8.707259  168.537116    2.164946    7.141062   \n",
              "min      2.900000    1.129600    1.000000  187.000000   12.600000    1.730000   \n",
              "25%     45.025000    2.100175    4.000000  279.000000   17.400000    6.950000   \n",
              "50%     77.500000    3.207450    5.000000  330.000000   19.050000   11.360000   \n",
              "75%     94.075000    5.188425   24.000000  666.000000   20.200000   16.955000   \n",
              "max    100.000000   12.126500   24.000000  711.000000   22.000000   37.970000   \n",
              "\n",
              "             MEDV  \n",
              "count  506.000000  \n",
              "mean    22.532806  \n",
              "std      9.197104  \n",
              "min      5.000000  \n",
              "25%     17.025000  \n",
              "50%     21.200000  \n",
              "75%     25.000000  \n",
              "max     50.000000  "
            ]
          },
          "execution_count": 5,
          "metadata": {},
          "output_type": "execute_result"
        },
        {
          "data": {
            "application/javascript": [
              "\n",
              "            setTimeout(function() {\n",
              "                var nbb_cell_id = 5;\n",
              "                var nbb_unformatted_code = \"df.describe()\";\n",
              "                var nbb_formatted_code = \"df.describe()\";\n",
              "                var nbb_cells = Jupyter.notebook.get_cells();\n",
              "                for (var i = 0; i < nbb_cells.length; ++i) {\n",
              "                    if (nbb_cells[i].input_prompt_number == nbb_cell_id) {\n",
              "                        if (nbb_cells[i].get_text() == nbb_unformatted_code) {\n",
              "                             nbb_cells[i].set_text(nbb_formatted_code);\n",
              "                        }\n",
              "                        break;\n",
              "                    }\n",
              "                }\n",
              "            }, 500);\n",
              "            "
            ],
            "text/plain": [
              "<IPython.core.display.Javascript object>"
            ]
          },
          "metadata": {},
          "output_type": "display_data"
        }
      ],
      "source": [
        "df.describe()"
      ]
    },
    {
      "cell_type": "markdown",
      "metadata": {
        "id": "E_7E5wkrGvSJ"
      },
      "source": [
        "**For the column `CHAS`, replace the 1 values with '*yes*' and 0 values with '*no*'.**"
      ]
    },
    {
      "cell_type": "code",
      "execution_count": null,
      "metadata": {
        "id": "WKClx0bAGvSK",
        "outputId": "8df609f3-16c9-4d03-ed2f-8f64439caf69"
      },
      "outputs": [
        {
          "data": {
            "text/html": [
              "<div>\n",
              "<style scoped>\n",
              "    .dataframe tbody tr th:only-of-type {\n",
              "        vertical-align: middle;\n",
              "    }\n",
              "\n",
              "    .dataframe tbody tr th {\n",
              "        vertical-align: top;\n",
              "    }\n",
              "\n",
              "    .dataframe thead th {\n",
              "        text-align: right;\n",
              "    }\n",
              "</style>\n",
              "<table border=\"1\" class=\"dataframe\">\n",
              "  <thead>\n",
              "    <tr style=\"text-align: right;\">\n",
              "      <th></th>\n",
              "      <th>CRIM</th>\n",
              "      <th>ZN</th>\n",
              "      <th>INDUS</th>\n",
              "      <th>CHAS</th>\n",
              "      <th>NX</th>\n",
              "      <th>RM</th>\n",
              "      <th>AGE</th>\n",
              "      <th>DIS</th>\n",
              "      <th>RAD</th>\n",
              "      <th>TAX</th>\n",
              "      <th>PTRATIO</th>\n",
              "      <th>LSTAT</th>\n",
              "      <th>MEDV</th>\n",
              "    </tr>\n",
              "  </thead>\n",
              "  <tbody>\n",
              "    <tr>\n",
              "      <th>0</th>\n",
              "      <td>0.00632</td>\n",
              "      <td>18.0</td>\n",
              "      <td>2.31</td>\n",
              "      <td>no</td>\n",
              "      <td>0.538</td>\n",
              "      <td>6.575</td>\n",
              "      <td>65.2</td>\n",
              "      <td>4.0900</td>\n",
              "      <td>1</td>\n",
              "      <td>296</td>\n",
              "      <td>15.3</td>\n",
              "      <td>4.98</td>\n",
              "      <td>24.0</td>\n",
              "    </tr>\n",
              "    <tr>\n",
              "      <th>1</th>\n",
              "      <td>0.02731</td>\n",
              "      <td>0.0</td>\n",
              "      <td>7.07</td>\n",
              "      <td>no</td>\n",
              "      <td>0.469</td>\n",
              "      <td>6.421</td>\n",
              "      <td>78.9</td>\n",
              "      <td>4.9671</td>\n",
              "      <td>2</td>\n",
              "      <td>242</td>\n",
              "      <td>17.8</td>\n",
              "      <td>9.14</td>\n",
              "      <td>21.6</td>\n",
              "    </tr>\n",
              "    <tr>\n",
              "      <th>2</th>\n",
              "      <td>0.02729</td>\n",
              "      <td>0.0</td>\n",
              "      <td>7.07</td>\n",
              "      <td>no</td>\n",
              "      <td>0.469</td>\n",
              "      <td>7.185</td>\n",
              "      <td>61.1</td>\n",
              "      <td>4.9671</td>\n",
              "      <td>2</td>\n",
              "      <td>242</td>\n",
              "      <td>17.8</td>\n",
              "      <td>4.03</td>\n",
              "      <td>34.7</td>\n",
              "    </tr>\n",
              "    <tr>\n",
              "      <th>3</th>\n",
              "      <td>0.03237</td>\n",
              "      <td>0.0</td>\n",
              "      <td>2.18</td>\n",
              "      <td>no</td>\n",
              "      <td>0.458</td>\n",
              "      <td>6.998</td>\n",
              "      <td>45.8</td>\n",
              "      <td>6.0622</td>\n",
              "      <td>3</td>\n",
              "      <td>222</td>\n",
              "      <td>18.7</td>\n",
              "      <td>2.94</td>\n",
              "      <td>33.4</td>\n",
              "    </tr>\n",
              "    <tr>\n",
              "      <th>4</th>\n",
              "      <td>0.06905</td>\n",
              "      <td>0.0</td>\n",
              "      <td>2.18</td>\n",
              "      <td>no</td>\n",
              "      <td>0.458</td>\n",
              "      <td>7.147</td>\n",
              "      <td>54.2</td>\n",
              "      <td>6.0622</td>\n",
              "      <td>3</td>\n",
              "      <td>222</td>\n",
              "      <td>18.7</td>\n",
              "      <td>5.33</td>\n",
              "      <td>36.2</td>\n",
              "    </tr>\n",
              "  </tbody>\n",
              "</table>\n",
              "</div>"
            ],
            "text/plain": [
              "      CRIM    ZN  INDUS CHAS     NX     RM   AGE     DIS  RAD  TAX  PTRATIO  \\\n",
              "0  0.00632  18.0   2.31   no  0.538  6.575  65.2  4.0900    1  296     15.3   \n",
              "1  0.02731   0.0   7.07   no  0.469  6.421  78.9  4.9671    2  242     17.8   \n",
              "2  0.02729   0.0   7.07   no  0.469  7.185  61.1  4.9671    2  242     17.8   \n",
              "3  0.03237   0.0   2.18   no  0.458  6.998  45.8  6.0622    3  222     18.7   \n",
              "4  0.06905   0.0   2.18   no  0.458  7.147  54.2  6.0622    3  222     18.7   \n",
              "\n",
              "   LSTAT  MEDV  \n",
              "0   4.98  24.0  \n",
              "1   9.14  21.6  \n",
              "2   4.03  34.7  \n",
              "3   2.94  33.4  \n",
              "4   5.33  36.2  "
            ]
          },
          "execution_count": 6,
          "metadata": {},
          "output_type": "execute_result"
        },
        {
          "data": {
            "application/javascript": [
              "\n",
              "            setTimeout(function() {\n",
              "                var nbb_cell_id = 6;\n",
              "                var nbb_unformatted_code = \"df[\\\"CHAS\\\"] = df[\\\"CHAS\\\"].replace({1: \\\"yes\\\", 0: \\\"no\\\"})\\ndf.head()\";\n",
              "                var nbb_formatted_code = \"df[\\\"CHAS\\\"] = df[\\\"CHAS\\\"].replace({1: \\\"yes\\\", 0: \\\"no\\\"})\\ndf.head()\";\n",
              "                var nbb_cells = Jupyter.notebook.get_cells();\n",
              "                for (var i = 0; i < nbb_cells.length; ++i) {\n",
              "                    if (nbb_cells[i].input_prompt_number == nbb_cell_id) {\n",
              "                        if (nbb_cells[i].get_text() == nbb_unformatted_code) {\n",
              "                             nbb_cells[i].set_text(nbb_formatted_code);\n",
              "                        }\n",
              "                        break;\n",
              "                    }\n",
              "                }\n",
              "            }, 500);\n",
              "            "
            ],
            "text/plain": [
              "<IPython.core.display.Javascript object>"
            ]
          },
          "metadata": {},
          "output_type": "display_data"
        }
      ],
      "source": [
        "df[\"CHAS\"] = df[\"CHAS\"].replace({1: \"yes\", 0: \"no\"})\n",
        "df.head()"
      ]
    },
    {
      "cell_type": "markdown",
      "metadata": {
        "id": "-RKb1jhcGvSK"
      },
      "source": [
        "### Split the dataset\n",
        "\n",
        "Split the data into the dependent and independent variables, create dummy variables for the categorical variables, add a constant to the independent variables, and further split it in a ratio of 70:30 for train and test sets."
      ]
    },
    {
      "cell_type": "code",
      "execution_count": null,
      "metadata": {
        "id": "H7ZDToPfGvSK",
        "outputId": "fcd340c2-fb03-4199-895c-55169ccd048b"
      },
      "outputs": [
        {
          "data": {
            "application/javascript": [
              "\n",
              "            setTimeout(function() {\n",
              "                var nbb_cell_id = 7;\n",
              "                var nbb_unformatted_code = \"# splitting the data into the dependent and independent variables\\nX = df.drop(\\\"MEDV\\\", axis=1)\\ny = df[\\\"MEDV\\\"]\";\n",
              "                var nbb_formatted_code = \"# splitting the data into the dependent and independent variables\\nX = df.drop(\\\"MEDV\\\", axis=1)\\ny = df[\\\"MEDV\\\"]\";\n",
              "                var nbb_cells = Jupyter.notebook.get_cells();\n",
              "                for (var i = 0; i < nbb_cells.length; ++i) {\n",
              "                    if (nbb_cells[i].input_prompt_number == nbb_cell_id) {\n",
              "                        if (nbb_cells[i].get_text() == nbb_unformatted_code) {\n",
              "                             nbb_cells[i].set_text(nbb_formatted_code);\n",
              "                        }\n",
              "                        break;\n",
              "                    }\n",
              "                }\n",
              "            }, 500);\n",
              "            "
            ],
            "text/plain": [
              "<IPython.core.display.Javascript object>"
            ]
          },
          "metadata": {},
          "output_type": "display_data"
        }
      ],
      "source": [
        "# splitting the data into the dependent and independent variables\n",
        "X = df.drop(\"MEDV\", axis=1)\n",
        "y = df[\"MEDV\"]"
      ]
    },
    {
      "cell_type": "code",
      "execution_count": null,
      "metadata": {
        "id": "4vo4gZrcGvSK",
        "outputId": "60f4fd09-7c58-40c1-fc36-1ebb825cb36a"
      },
      "outputs": [
        {
          "data": {
            "text/html": [
              "<div>\n",
              "<style scoped>\n",
              "    .dataframe tbody tr th:only-of-type {\n",
              "        vertical-align: middle;\n",
              "    }\n",
              "\n",
              "    .dataframe tbody tr th {\n",
              "        vertical-align: top;\n",
              "    }\n",
              "\n",
              "    .dataframe thead th {\n",
              "        text-align: right;\n",
              "    }\n",
              "</style>\n",
              "<table border=\"1\" class=\"dataframe\">\n",
              "  <thead>\n",
              "    <tr style=\"text-align: right;\">\n",
              "      <th></th>\n",
              "      <th>CRIM</th>\n",
              "      <th>ZN</th>\n",
              "      <th>INDUS</th>\n",
              "      <th>NX</th>\n",
              "      <th>RM</th>\n",
              "      <th>AGE</th>\n",
              "      <th>DIS</th>\n",
              "      <th>RAD</th>\n",
              "      <th>TAX</th>\n",
              "      <th>PTRATIO</th>\n",
              "      <th>LSTAT</th>\n",
              "      <th>CHAS_yes</th>\n",
              "    </tr>\n",
              "  </thead>\n",
              "  <tbody>\n",
              "    <tr>\n",
              "      <th>0</th>\n",
              "      <td>0.00632</td>\n",
              "      <td>18.0</td>\n",
              "      <td>2.31</td>\n",
              "      <td>0.538</td>\n",
              "      <td>6.575</td>\n",
              "      <td>65.2</td>\n",
              "      <td>4.0900</td>\n",
              "      <td>1</td>\n",
              "      <td>296</td>\n",
              "      <td>15.3</td>\n",
              "      <td>4.98</td>\n",
              "      <td>0</td>\n",
              "    </tr>\n",
              "    <tr>\n",
              "      <th>1</th>\n",
              "      <td>0.02731</td>\n",
              "      <td>0.0</td>\n",
              "      <td>7.07</td>\n",
              "      <td>0.469</td>\n",
              "      <td>6.421</td>\n",
              "      <td>78.9</td>\n",
              "      <td>4.9671</td>\n",
              "      <td>2</td>\n",
              "      <td>242</td>\n",
              "      <td>17.8</td>\n",
              "      <td>9.14</td>\n",
              "      <td>0</td>\n",
              "    </tr>\n",
              "    <tr>\n",
              "      <th>2</th>\n",
              "      <td>0.02729</td>\n",
              "      <td>0.0</td>\n",
              "      <td>7.07</td>\n",
              "      <td>0.469</td>\n",
              "      <td>7.185</td>\n",
              "      <td>61.1</td>\n",
              "      <td>4.9671</td>\n",
              "      <td>2</td>\n",
              "      <td>242</td>\n",
              "      <td>17.8</td>\n",
              "      <td>4.03</td>\n",
              "      <td>0</td>\n",
              "    </tr>\n",
              "    <tr>\n",
              "      <th>3</th>\n",
              "      <td>0.03237</td>\n",
              "      <td>0.0</td>\n",
              "      <td>2.18</td>\n",
              "      <td>0.458</td>\n",
              "      <td>6.998</td>\n",
              "      <td>45.8</td>\n",
              "      <td>6.0622</td>\n",
              "      <td>3</td>\n",
              "      <td>222</td>\n",
              "      <td>18.7</td>\n",
              "      <td>2.94</td>\n",
              "      <td>0</td>\n",
              "    </tr>\n",
              "    <tr>\n",
              "      <th>4</th>\n",
              "      <td>0.06905</td>\n",
              "      <td>0.0</td>\n",
              "      <td>2.18</td>\n",
              "      <td>0.458</td>\n",
              "      <td>7.147</td>\n",
              "      <td>54.2</td>\n",
              "      <td>6.0622</td>\n",
              "      <td>3</td>\n",
              "      <td>222</td>\n",
              "      <td>18.7</td>\n",
              "      <td>5.33</td>\n",
              "      <td>0</td>\n",
              "    </tr>\n",
              "  </tbody>\n",
              "</table>\n",
              "</div>"
            ],
            "text/plain": [
              "      CRIM    ZN  INDUS     NX     RM   AGE     DIS  RAD  TAX  PTRATIO  LSTAT  \\\n",
              "0  0.00632  18.0   2.31  0.538  6.575  65.2  4.0900    1  296     15.3   4.98   \n",
              "1  0.02731   0.0   7.07  0.469  6.421  78.9  4.9671    2  242     17.8   9.14   \n",
              "2  0.02729   0.0   7.07  0.469  7.185  61.1  4.9671    2  242     17.8   4.03   \n",
              "3  0.03237   0.0   2.18  0.458  6.998  45.8  6.0622    3  222     18.7   2.94   \n",
              "4  0.06905   0.0   2.18  0.458  7.147  54.2  6.0622    3  222     18.7   5.33   \n",
              "\n",
              "   CHAS_yes  \n",
              "0         0  \n",
              "1         0  \n",
              "2         0  \n",
              "3         0  \n",
              "4         0  "
            ]
          },
          "execution_count": 8,
          "metadata": {},
          "output_type": "execute_result"
        },
        {
          "data": {
            "application/javascript": [
              "\n",
              "            setTimeout(function() {\n",
              "                var nbb_cell_id = 8;\n",
              "                var nbb_unformatted_code = \"# creating dummy variables\\nX = pd.get_dummies(\\n    X,\\n    columns=X.select_dtypes(include=[\\\"object\\\", \\\"category\\\"]).columns.tolist(),\\n    drop_first=True,\\n)\\n\\nX.head()\";\n",
              "                var nbb_formatted_code = \"# creating dummy variables\\nX = pd.get_dummies(\\n    X,\\n    columns=X.select_dtypes(include=[\\\"object\\\", \\\"category\\\"]).columns.tolist(),\\n    drop_first=True,\\n)\\n\\nX.head()\";\n",
              "                var nbb_cells = Jupyter.notebook.get_cells();\n",
              "                for (var i = 0; i < nbb_cells.length; ++i) {\n",
              "                    if (nbb_cells[i].input_prompt_number == nbb_cell_id) {\n",
              "                        if (nbb_cells[i].get_text() == nbb_unformatted_code) {\n",
              "                             nbb_cells[i].set_text(nbb_formatted_code);\n",
              "                        }\n",
              "                        break;\n",
              "                    }\n",
              "                }\n",
              "            }, 500);\n",
              "            "
            ],
            "text/plain": [
              "<IPython.core.display.Javascript object>"
            ]
          },
          "metadata": {},
          "output_type": "display_data"
        }
      ],
      "source": [
        "# creating dummy variables\n",
        "X = pd.get_dummies(\n",
        "    X,\n",
        "    columns=X.select_dtypes(include=[\"object\", \"category\"]).columns.tolist(),\n",
        "    drop_first=True,\n",
        ")\n",
        "\n",
        "X.head()"
      ]
    },
    {
      "cell_type": "code",
      "execution_count": null,
      "metadata": {
        "id": "A-E8_kBWGvSK",
        "outputId": "451996bc-ae60-4b8c-c3e9-79c44de96ac0"
      },
      "outputs": [
        {
          "data": {
            "application/javascript": [
              "\n",
              "            setTimeout(function() {\n",
              "                var nbb_cell_id = 9;\n",
              "                var nbb_unformatted_code = \"# this adds the constant term to the dataset\\nX = sm.add_constant(X)\";\n",
              "                var nbb_formatted_code = \"# this adds the constant term to the dataset\\nX = sm.add_constant(X)\";\n",
              "                var nbb_cells = Jupyter.notebook.get_cells();\n",
              "                for (var i = 0; i < nbb_cells.length; ++i) {\n",
              "                    if (nbb_cells[i].input_prompt_number == nbb_cell_id) {\n",
              "                        if (nbb_cells[i].get_text() == nbb_unformatted_code) {\n",
              "                             nbb_cells[i].set_text(nbb_formatted_code);\n",
              "                        }\n",
              "                        break;\n",
              "                    }\n",
              "                }\n",
              "            }, 500);\n",
              "            "
            ],
            "text/plain": [
              "<IPython.core.display.Javascript object>"
            ]
          },
          "metadata": {},
          "output_type": "display_data"
        }
      ],
      "source": [
        "# this adds the constant term to the dataset\n",
        "X = sm.add_constant(X)"
      ]
    },
    {
      "cell_type": "code",
      "execution_count": null,
      "metadata": {
        "id": "pyrnn6WSGvSK",
        "outputId": "5faeb4d5-ea87-4b6d-c26c-fb78df2cb551"
      },
      "outputs": [
        {
          "data": {
            "application/javascript": [
              "\n",
              "            setTimeout(function() {\n",
              "                var nbb_cell_id = 10;\n",
              "                var nbb_unformatted_code = \"# splitting the data in 70:30 ratio for train to test data\\nX_train, X_test, y_train, y_test = train_test_split(\\n    X, y, test_size=0.30, random_state=1\\n)\";\n",
              "                var nbb_formatted_code = \"# splitting the data in 70:30 ratio for train to test data\\nX_train, X_test, y_train, y_test = train_test_split(\\n    X, y, test_size=0.30, random_state=1\\n)\";\n",
              "                var nbb_cells = Jupyter.notebook.get_cells();\n",
              "                for (var i = 0; i < nbb_cells.length; ++i) {\n",
              "                    if (nbb_cells[i].input_prompt_number == nbb_cell_id) {\n",
              "                        if (nbb_cells[i].get_text() == nbb_unformatted_code) {\n",
              "                             nbb_cells[i].set_text(nbb_formatted_code);\n",
              "                        }\n",
              "                        break;\n",
              "                    }\n",
              "                }\n",
              "            }, 500);\n",
              "            "
            ],
            "text/plain": [
              "<IPython.core.display.Javascript object>"
            ]
          },
          "metadata": {},
          "output_type": "display_data"
        }
      ],
      "source": [
        "# splitting the data in 70:30 ratio for train to test data\n",
        "X_train, X_test, y_train, y_test = train_test_split(\n",
        "    X, y, test_size=0.30, random_state=1\n",
        ")"
      ]
    },
    {
      "cell_type": "markdown",
      "metadata": {
        "id": "ewMs3Ci0GvSK"
      },
      "source": [
        "### Model Building"
      ]
    },
    {
      "cell_type": "markdown",
      "metadata": {
        "id": "cdXvev_gGvSK"
      },
      "source": [
        "**Make the linear model using statsmodels OLS and print the model summary.**"
      ]
    },
    {
      "cell_type": "code",
      "execution_count": null,
      "metadata": {
        "id": "giO_PI0uGvSK",
        "outputId": "3a653e16-1ba0-41f2-f3bc-ee3986256dd1"
      },
      "outputs": [
        {
          "name": "stdout",
          "output_type": "stream",
          "text": [
            "                            OLS Regression Results                            \n",
            "==============================================================================\n",
            "Dep. Variable:                   MEDV   R-squared:                       0.707\n",
            "Model:                            OLS   Adj. R-squared:                  0.697\n",
            "Method:                 Least Squares   F-statistic:                     68.69\n",
            "Date:                Mon, 17 Jan 2022   Prob (F-statistic):           2.38e-83\n",
            "Time:                        10:56:24   Log-Likelihood:                -1063.0\n",
            "No. Observations:                 354   AIC:                             2152.\n",
            "Df Residuals:                     341   BIC:                             2202.\n",
            "Df Model:                          12                                         \n",
            "Covariance Type:            nonrobust                                         \n",
            "==============================================================================\n",
            "                 coef    std err          t      P>|t|      [0.025      0.975]\n",
            "------------------------------------------------------------------------------\n",
            "const         49.8852      6.107      8.168      0.000      37.872      61.898\n",
            "CRIM          -0.1138      0.043     -2.647      0.009      -0.198      -0.029\n",
            "ZN             0.0612      0.019      3.288      0.001       0.025       0.098\n",
            "INDUS          0.0541      0.077      0.702      0.483      -0.097       0.206\n",
            "NX           -22.2485      4.696     -4.738      0.000     -31.485     -13.012\n",
            "RM             2.6984      0.521      5.183      0.000       1.674       3.722\n",
            "AGE            0.0048      0.017      0.291      0.771      -0.028       0.037\n",
            "DIS           -1.5343      0.258     -5.944      0.000      -2.042      -1.027\n",
            "RAD            0.2988      0.087      3.445      0.001       0.128       0.469\n",
            "TAX           -0.0114      0.005     -2.302      0.022      -0.021      -0.002\n",
            "PTRATIO       -0.9889      0.172     -5.762      0.000      -1.326      -0.651\n",
            "LSTAT         -0.5861      0.061     -9.540      0.000      -0.707      -0.465\n",
            "CHAS_yes       2.5175      0.983      2.560      0.011       0.583       4.452\n",
            "==============================================================================\n",
            "Omnibus:                      134.560   Durbin-Watson:                   1.847\n",
            "Prob(Omnibus):                  0.000   Jarque-Bera (JB):              545.280\n",
            "Skew:                           1.626   Prob(JB):                    3.93e-119\n",
            "Kurtosis:                       8.137   Cond. No.                     1.17e+04\n",
            "==============================================================================\n",
            "\n",
            "Notes:\n",
            "[1] Standard Errors assume that the covariance matrix of the errors is correctly specified.\n",
            "[2] The condition number is large, 1.17e+04. This might indicate that there are\n",
            "strong multicollinearity or other numerical problems.\n"
          ]
        },
        {
          "data": {
            "application/javascript": [
              "\n",
              "            setTimeout(function() {\n",
              "                var nbb_cell_id = 11;\n",
              "                var nbb_unformatted_code = \"model = sm.OLS(y_train, X_train).fit()\\nprint(model.summary())\";\n",
              "                var nbb_formatted_code = \"model = sm.OLS(y_train, X_train).fit()\\nprint(model.summary())\";\n",
              "                var nbb_cells = Jupyter.notebook.get_cells();\n",
              "                for (var i = 0; i < nbb_cells.length; ++i) {\n",
              "                    if (nbb_cells[i].input_prompt_number == nbb_cell_id) {\n",
              "                        if (nbb_cells[i].get_text() == nbb_unformatted_code) {\n",
              "                             nbb_cells[i].set_text(nbb_formatted_code);\n",
              "                        }\n",
              "                        break;\n",
              "                    }\n",
              "                }\n",
              "            }, 500);\n",
              "            "
            ],
            "text/plain": [
              "<IPython.core.display.Javascript object>"
            ]
          },
          "metadata": {},
          "output_type": "display_data"
        }
      ],
      "source": [
        "model = sm.OLS(y_train, X_train).fit()\n",
        "print(model.summary())"
      ]
    },
    {
      "cell_type": "markdown",
      "metadata": {
        "id": "QsFycww0v_cl"
      },
      "source": [
        "## Checking Linear Regression Assumptions"
      ]
    },
    {
      "cell_type": "markdown",
      "metadata": {
        "id": "xrn6suuxv_cl"
      },
      "source": [
        "We will be checking the following Linear Regression assumptions:\n",
        "\n",
        "1. **No Multicollinearity**\n",
        "\n",
        "2. **Linearity of variables**\n",
        "\n",
        "3. **Independence of error terms**\n",
        "\n",
        "4. **Normality of error terms**\n",
        "\n",
        "5. **No Heteroscedasticity**"
      ]
    },
    {
      "cell_type": "markdown",
      "metadata": {
        "id": "jSF5FtcYv_cl"
      },
      "source": [
        "### TEST FOR MULTICOLLINEARITY\n",
        "\n",
        "- We will test for multicollinearity using VIF.\n",
        "\n",
        "- **General Rule of thumb**:\n",
        "    - If VIF is 1 then there is no correlation between the $k$th predictor and the remaining predictor variables.\n",
        "    - If VIF exceeds 5 or is close to exceeding 5, we say there is moderate multicollinearity.\n",
        "    - If VIF is 10 or exceeding 10, it shows signs of high multicollinearity."
      ]
    },
    {
      "cell_type": "code",
      "execution_count": null,
      "metadata": {
        "id": "mwXGio4fv_cl",
        "outputId": "a349add7-5d86-4bd8-ea9d-2f854064587b"
      },
      "outputs": [
        {
          "data": {
            "application/javascript": [
              "\n",
              "            setTimeout(function() {\n",
              "                var nbb_cell_id = 12;\n",
              "                var nbb_unformatted_code = \"# we will define a function to check VIF\\ndef checking_vif(predictors):\\n    vif = pd.DataFrame()\\n    vif[\\\"feature\\\"] = predictors.columns\\n\\n    # calculating VIF for each feature\\n    vif[\\\"VIF\\\"] = [\\n        variance_inflation_factor(predictors.values, i)\\n        for i in range(len(predictors.columns))\\n    ]\\n    return vif\";\n",
              "                var nbb_formatted_code = \"# we will define a function to check VIF\\ndef checking_vif(predictors):\\n    vif = pd.DataFrame()\\n    vif[\\\"feature\\\"] = predictors.columns\\n\\n    # calculating VIF for each feature\\n    vif[\\\"VIF\\\"] = [\\n        variance_inflation_factor(predictors.values, i)\\n        for i in range(len(predictors.columns))\\n    ]\\n    return vif\";\n",
              "                var nbb_cells = Jupyter.notebook.get_cells();\n",
              "                for (var i = 0; i < nbb_cells.length; ++i) {\n",
              "                    if (nbb_cells[i].input_prompt_number == nbb_cell_id) {\n",
              "                        if (nbb_cells[i].get_text() == nbb_unformatted_code) {\n",
              "                             nbb_cells[i].set_text(nbb_formatted_code);\n",
              "                        }\n",
              "                        break;\n",
              "                    }\n",
              "                }\n",
              "            }, 500);\n",
              "            "
            ],
            "text/plain": [
              "<IPython.core.display.Javascript object>"
            ]
          },
          "metadata": {},
          "output_type": "display_data"
        }
      ],
      "source": [
        "# we will define a function to check VIF\n",
        "def checking_vif(predictors):\n",
        "    vif = pd.DataFrame()\n",
        "    vif[\"feature\"] = predictors.columns\n",
        "\n",
        "    # calculating VIF for each feature\n",
        "    vif[\"VIF\"] = [\n",
        "        variance_inflation_factor(predictors.values, i)\n",
        "        for i in range(len(predictors.columns))\n",
        "    ]\n",
        "    return vif"
      ]
    },
    {
      "cell_type": "code",
      "execution_count": null,
      "metadata": {
        "id": "i3vNKNiVv_cl",
        "outputId": "462b548c-ae99-494f-868e-a5b7d624905c"
      },
      "outputs": [
        {
          "data": {
            "text/html": [
              "<div>\n",
              "<style scoped>\n",
              "    .dataframe tbody tr th:only-of-type {\n",
              "        vertical-align: middle;\n",
              "    }\n",
              "\n",
              "    .dataframe tbody tr th {\n",
              "        vertical-align: top;\n",
              "    }\n",
              "\n",
              "    .dataframe thead th {\n",
              "        text-align: right;\n",
              "    }\n",
              "</style>\n",
              "<table border=\"1\" class=\"dataframe\">\n",
              "  <thead>\n",
              "    <tr style=\"text-align: right;\">\n",
              "      <th></th>\n",
              "      <th>feature</th>\n",
              "      <th>VIF</th>\n",
              "    </tr>\n",
              "  </thead>\n",
              "  <tbody>\n",
              "    <tr>\n",
              "      <th>0</th>\n",
              "      <td>const</td>\n",
              "      <td>535.372593</td>\n",
              "    </tr>\n",
              "    <tr>\n",
              "      <th>1</th>\n",
              "      <td>CRIM</td>\n",
              "      <td>1.924114</td>\n",
              "    </tr>\n",
              "    <tr>\n",
              "      <th>2</th>\n",
              "      <td>ZN</td>\n",
              "      <td>2.743574</td>\n",
              "    </tr>\n",
              "    <tr>\n",
              "      <th>3</th>\n",
              "      <td>INDUS</td>\n",
              "      <td>3.999538</td>\n",
              "    </tr>\n",
              "    <tr>\n",
              "      <th>4</th>\n",
              "      <td>NX</td>\n",
              "      <td>4.396157</td>\n",
              "    </tr>\n",
              "    <tr>\n",
              "      <th>5</th>\n",
              "      <td>RM</td>\n",
              "      <td>1.860950</td>\n",
              "    </tr>\n",
              "    <tr>\n",
              "      <th>6</th>\n",
              "      <td>AGE</td>\n",
              "      <td>3.150170</td>\n",
              "    </tr>\n",
              "    <tr>\n",
              "      <th>7</th>\n",
              "      <td>DIS</td>\n",
              "      <td>4.355469</td>\n",
              "    </tr>\n",
              "    <tr>\n",
              "      <th>8</th>\n",
              "      <td>RAD</td>\n",
              "      <td>8.345247</td>\n",
              "    </tr>\n",
              "    <tr>\n",
              "      <th>9</th>\n",
              "      <td>TAX</td>\n",
              "      <td>10.191941</td>\n",
              "    </tr>\n",
              "    <tr>\n",
              "      <th>10</th>\n",
              "      <td>PTRATIO</td>\n",
              "      <td>1.943409</td>\n",
              "    </tr>\n",
              "    <tr>\n",
              "      <th>11</th>\n",
              "      <td>LSTAT</td>\n",
              "      <td>2.861881</td>\n",
              "    </tr>\n",
              "    <tr>\n",
              "      <th>12</th>\n",
              "      <td>CHAS_yes</td>\n",
              "      <td>1.076564</td>\n",
              "    </tr>\n",
              "  </tbody>\n",
              "</table>\n",
              "</div>"
            ],
            "text/plain": [
              "     feature         VIF\n",
              "0      const  535.372593\n",
              "1       CRIM    1.924114\n",
              "2         ZN    2.743574\n",
              "3      INDUS    3.999538\n",
              "4         NX    4.396157\n",
              "5         RM    1.860950\n",
              "6        AGE    3.150170\n",
              "7        DIS    4.355469\n",
              "8        RAD    8.345247\n",
              "9        TAX   10.191941\n",
              "10   PTRATIO    1.943409\n",
              "11     LSTAT    2.861881\n",
              "12  CHAS_yes    1.076564"
            ]
          },
          "execution_count": 13,
          "metadata": {},
          "output_type": "execute_result"
        },
        {
          "data": {
            "application/javascript": [
              "\n",
              "            setTimeout(function() {\n",
              "                var nbb_cell_id = 13;\n",
              "                var nbb_unformatted_code = \"checking_vif(X_train)\";\n",
              "                var nbb_formatted_code = \"checking_vif(X_train)\";\n",
              "                var nbb_cells = Jupyter.notebook.get_cells();\n",
              "                for (var i = 0; i < nbb_cells.length; ++i) {\n",
              "                    if (nbb_cells[i].input_prompt_number == nbb_cell_id) {\n",
              "                        if (nbb_cells[i].get_text() == nbb_unformatted_code) {\n",
              "                             nbb_cells[i].set_text(nbb_formatted_code);\n",
              "                        }\n",
              "                        break;\n",
              "                    }\n",
              "                }\n",
              "            }, 500);\n",
              "            "
            ],
            "text/plain": [
              "<IPython.core.display.Javascript object>"
            ]
          },
          "metadata": {},
          "output_type": "display_data"
        }
      ],
      "source": [
        "checking_vif(X_train)"
      ]
    },
    {
      "cell_type": "markdown",
      "metadata": {
        "id": "XSiS4SRaqH8q"
      },
      "source": [
        "### Removing Multicollinearity\n",
        "\n",
        "To remove multicollinearity\n",
        "\n",
        "1. Drop every column one by one that has a VIF score greater than 5.\n",
        "2. Look at the adjusted R-squared and RMSE of all these models.\n",
        "3. Drop the variable that makes the least change in adjusted R-squared.\n",
        "4. Check the VIF scores again.\n",
        "5. Continue till you get all VIF scores under 5.\n",
        "\n",
        "Let's define a function that will help us do this."
      ]
    },
    {
      "cell_type": "code",
      "execution_count": null,
      "metadata": {
        "id": "uUrzkwVwGvSL",
        "outputId": "af028784-be4d-4d7b-e7a9-263c5832c318"
      },
      "outputs": [
        {
          "data": {
            "application/javascript": [
              "\n",
              "            setTimeout(function() {\n",
              "                var nbb_cell_id = 14;\n",
              "                var nbb_unformatted_code = \"def treating_multicollinearity(predictors, target, high_vif_columns):\\n    \\\"\\\"\\\"\\n    Checking the effect of dropping the columns showing high multicollinearity\\n    on model performance (adj. R-squared and RMSE)\\n\\n    predictors: independent variables\\n    target: dependent variable\\n    high_vif_columns: columns having high VIF\\n    \\\"\\\"\\\"\\n    # empty lists to store adj. R-squared and RMSE values\\n    adj_r2 = []\\n    rmse = []\\n\\n    # build ols models by dropping one of the high VIF columns at a time\\n    # store the adjusted R-squared and RMSE in the lists defined previously\\n    for cols in high_vif_columns:\\n        # defining the new train set\\n        train = predictors.loc[:, ~predictors.columns.str.startswith(cols)]\\n\\n        # create the model\\n        olsmodel = sm.OLS(target, train).fit()\\n\\n        # adding adj. R-squared and RMSE to the lists\\n        adj_r2.append(olsmodel.rsquared_adj)\\n        rmse.append(np.sqrt(olsmodel.mse_resid))\\n\\n    # creating a dataframe for the results\\n    temp = pd.DataFrame(\\n        {\\n            \\\"col\\\": high_vif_columns,\\n            \\\"Adj. R-squared after_dropping col\\\": adj_r2,\\n            \\\"RMSE after dropping col\\\": rmse,\\n        }\\n    ).sort_values(by=\\\"Adj. R-squared after_dropping col\\\", ascending=False)\\n    temp.reset_index(drop=True, inplace=True)\\n\\n    return temp\";\n",
              "                var nbb_formatted_code = \"def treating_multicollinearity(predictors, target, high_vif_columns):\\n    \\\"\\\"\\\"\\n    Checking the effect of dropping the columns showing high multicollinearity\\n    on model performance (adj. R-squared and RMSE)\\n\\n    predictors: independent variables\\n    target: dependent variable\\n    high_vif_columns: columns having high VIF\\n    \\\"\\\"\\\"\\n    # empty lists to store adj. R-squared and RMSE values\\n    adj_r2 = []\\n    rmse = []\\n\\n    # build ols models by dropping one of the high VIF columns at a time\\n    # store the adjusted R-squared and RMSE in the lists defined previously\\n    for cols in high_vif_columns:\\n        # defining the new train set\\n        train = predictors.loc[:, ~predictors.columns.str.startswith(cols)]\\n\\n        # create the model\\n        olsmodel = sm.OLS(target, train).fit()\\n\\n        # adding adj. R-squared and RMSE to the lists\\n        adj_r2.append(olsmodel.rsquared_adj)\\n        rmse.append(np.sqrt(olsmodel.mse_resid))\\n\\n    # creating a dataframe for the results\\n    temp = pd.DataFrame(\\n        {\\n            \\\"col\\\": high_vif_columns,\\n            \\\"Adj. R-squared after_dropping col\\\": adj_r2,\\n            \\\"RMSE after dropping col\\\": rmse,\\n        }\\n    ).sort_values(by=\\\"Adj. R-squared after_dropping col\\\", ascending=False)\\n    temp.reset_index(drop=True, inplace=True)\\n\\n    return temp\";\n",
              "                var nbb_cells = Jupyter.notebook.get_cells();\n",
              "                for (var i = 0; i < nbb_cells.length; ++i) {\n",
              "                    if (nbb_cells[i].input_prompt_number == nbb_cell_id) {\n",
              "                        if (nbb_cells[i].get_text() == nbb_unformatted_code) {\n",
              "                             nbb_cells[i].set_text(nbb_formatted_code);\n",
              "                        }\n",
              "                        break;\n",
              "                    }\n",
              "                }\n",
              "            }, 500);\n",
              "            "
            ],
            "text/plain": [
              "<IPython.core.display.Javascript object>"
            ]
          },
          "metadata": {},
          "output_type": "display_data"
        }
      ],
      "source": [
        "def treating_multicollinearity(predictors, target, high_vif_columns):\n",
        "    \"\"\"\n",
        "    Checking the effect of dropping the columns showing high multicollinearity\n",
        "    on model performance (adj. R-squared and RMSE)\n",
        "\n",
        "    predictors: independent variables\n",
        "    target: dependent variable\n",
        "    high_vif_columns: columns having high VIF\n",
        "    \"\"\"\n",
        "    # empty lists to store adj. R-squared and RMSE values\n",
        "    adj_r2 = []\n",
        "    rmse = []\n",
        "\n",
        "    # build ols models by dropping one of the high VIF columns at a time\n",
        "    # store the adjusted R-squared and RMSE in the lists defined previously\n",
        "    for cols in high_vif_columns:\n",
        "        # defining the new train set\n",
        "        train = predictors.loc[:, ~predictors.columns.str.startswith(cols)]\n",
        "\n",
        "        # create the model\n",
        "        olsmodel = sm.OLS(target, train).fit()\n",
        "\n",
        "        # adding adj. R-squared and RMSE to the lists\n",
        "        adj_r2.append(olsmodel.rsquared_adj)\n",
        "        rmse.append(np.sqrt(olsmodel.mse_resid))\n",
        "\n",
        "    # creating a dataframe for the results\n",
        "    temp = pd.DataFrame(\n",
        "        {\n",
        "            \"col\": high_vif_columns,\n",
        "            \"Adj. R-squared after_dropping col\": adj_r2,\n",
        "            \"RMSE after dropping col\": rmse,\n",
        "        }\n",
        "    ).sort_values(by=\"Adj. R-squared after_dropping col\", ascending=False)\n",
        "    temp.reset_index(drop=True, inplace=True)\n",
        "\n",
        "    return temp"
      ]
    },
    {
      "cell_type": "code",
      "execution_count": null,
      "metadata": {
        "id": "z0knFstAGvSL",
        "outputId": "802f031b-c332-43f6-c35d-1691bbae6aec"
      },
      "outputs": [
        {
          "data": {
            "text/html": [
              "<div>\n",
              "<style scoped>\n",
              "    .dataframe tbody tr th:only-of-type {\n",
              "        vertical-align: middle;\n",
              "    }\n",
              "\n",
              "    .dataframe tbody tr th {\n",
              "        vertical-align: top;\n",
              "    }\n",
              "\n",
              "    .dataframe thead th {\n",
              "        text-align: right;\n",
              "    }\n",
              "</style>\n",
              "<table border=\"1\" class=\"dataframe\">\n",
              "  <thead>\n",
              "    <tr style=\"text-align: right;\">\n",
              "      <th></th>\n",
              "      <th>col</th>\n",
              "      <th>Adj. R-squared after_dropping col</th>\n",
              "      <th>RMSE after dropping col</th>\n",
              "    </tr>\n",
              "  </thead>\n",
              "  <tbody>\n",
              "    <tr>\n",
              "      <th>0</th>\n",
              "      <td>TAX</td>\n",
              "      <td>0.693267</td>\n",
              "      <td>4.997394</td>\n",
              "    </tr>\n",
              "    <tr>\n",
              "      <th>1</th>\n",
              "      <td>RAD</td>\n",
              "      <td>0.687451</td>\n",
              "      <td>5.044546</td>\n",
              "    </tr>\n",
              "  </tbody>\n",
              "</table>\n",
              "</div>"
            ],
            "text/plain": [
              "   col  Adj. R-squared after_dropping col  RMSE after dropping col\n",
              "0  TAX                           0.693267                 4.997394\n",
              "1  RAD                           0.687451                 5.044546"
            ]
          },
          "execution_count": 15,
          "metadata": {},
          "output_type": "execute_result"
        },
        {
          "data": {
            "application/javascript": [
              "\n",
              "            setTimeout(function() {\n",
              "                var nbb_cell_id = 15;\n",
              "                var nbb_unformatted_code = \"col_list = [\\\"RAD\\\", \\\"TAX\\\"]\\n\\nres = treating_multicollinearity(X_train, y_train, col_list)\\nres\";\n",
              "                var nbb_formatted_code = \"col_list = [\\\"RAD\\\", \\\"TAX\\\"]\\n\\nres = treating_multicollinearity(X_train, y_train, col_list)\\nres\";\n",
              "                var nbb_cells = Jupyter.notebook.get_cells();\n",
              "                for (var i = 0; i < nbb_cells.length; ++i) {\n",
              "                    if (nbb_cells[i].input_prompt_number == nbb_cell_id) {\n",
              "                        if (nbb_cells[i].get_text() == nbb_unformatted_code) {\n",
              "                             nbb_cells[i].set_text(nbb_formatted_code);\n",
              "                        }\n",
              "                        break;\n",
              "                    }\n",
              "                }\n",
              "            }, 500);\n",
              "            "
            ],
            "text/plain": [
              "<IPython.core.display.Javascript object>"
            ]
          },
          "metadata": {},
          "output_type": "display_data"
        }
      ],
      "source": [
        "col_list = [\"RAD\", \"TAX\"]\n",
        "\n",
        "res = treating_multicollinearity(X_train, y_train, col_list)\n",
        "res"
      ]
    },
    {
      "cell_type": "code",
      "execution_count": null,
      "metadata": {
        "id": "6YDF1_nwGvSL",
        "outputId": "fe6b1e83-b83d-4876-9b70-461f3693d33a"
      },
      "outputs": [
        {
          "name": "stdout",
          "output_type": "stream",
          "text": [
            "VIF after dropping  TAX\n"
          ]
        },
        {
          "data": {
            "text/html": [
              "<div>\n",
              "<style scoped>\n",
              "    .dataframe tbody tr th:only-of-type {\n",
              "        vertical-align: middle;\n",
              "    }\n",
              "\n",
              "    .dataframe tbody tr th {\n",
              "        vertical-align: top;\n",
              "    }\n",
              "\n",
              "    .dataframe thead th {\n",
              "        text-align: right;\n",
              "    }\n",
              "</style>\n",
              "<table border=\"1\" class=\"dataframe\">\n",
              "  <thead>\n",
              "    <tr style=\"text-align: right;\">\n",
              "      <th></th>\n",
              "      <th>feature</th>\n",
              "      <th>VIF</th>\n",
              "    </tr>\n",
              "  </thead>\n",
              "  <tbody>\n",
              "    <tr>\n",
              "      <th>0</th>\n",
              "      <td>const</td>\n",
              "      <td>532.025529</td>\n",
              "    </tr>\n",
              "    <tr>\n",
              "      <th>1</th>\n",
              "      <td>CRIM</td>\n",
              "      <td>1.923159</td>\n",
              "    </tr>\n",
              "    <tr>\n",
              "      <th>2</th>\n",
              "      <td>ZN</td>\n",
              "      <td>2.483399</td>\n",
              "    </tr>\n",
              "    <tr>\n",
              "      <th>3</th>\n",
              "      <td>INDUS</td>\n",
              "      <td>3.270983</td>\n",
              "    </tr>\n",
              "    <tr>\n",
              "      <th>4</th>\n",
              "      <td>NX</td>\n",
              "      <td>4.361847</td>\n",
              "    </tr>\n",
              "    <tr>\n",
              "      <th>5</th>\n",
              "      <td>RM</td>\n",
              "      <td>1.857918</td>\n",
              "    </tr>\n",
              "    <tr>\n",
              "      <th>6</th>\n",
              "      <td>AGE</td>\n",
              "      <td>3.149005</td>\n",
              "    </tr>\n",
              "    <tr>\n",
              "      <th>7</th>\n",
              "      <td>DIS</td>\n",
              "      <td>4.333734</td>\n",
              "    </tr>\n",
              "    <tr>\n",
              "      <th>8</th>\n",
              "      <td>RAD</td>\n",
              "      <td>2.942862</td>\n",
              "    </tr>\n",
              "    <tr>\n",
              "      <th>9</th>\n",
              "      <td>PTRATIO</td>\n",
              "      <td>1.909750</td>\n",
              "    </tr>\n",
              "    <tr>\n",
              "      <th>10</th>\n",
              "      <td>LSTAT</td>\n",
              "      <td>2.860251</td>\n",
              "    </tr>\n",
              "    <tr>\n",
              "      <th>11</th>\n",
              "      <td>CHAS_yes</td>\n",
              "      <td>1.050708</td>\n",
              "    </tr>\n",
              "  </tbody>\n",
              "</table>\n",
              "</div>"
            ],
            "text/plain": [
              "     feature         VIF\n",
              "0      const  532.025529\n",
              "1       CRIM    1.923159\n",
              "2         ZN    2.483399\n",
              "3      INDUS    3.270983\n",
              "4         NX    4.361847\n",
              "5         RM    1.857918\n",
              "6        AGE    3.149005\n",
              "7        DIS    4.333734\n",
              "8        RAD    2.942862\n",
              "9    PTRATIO    1.909750\n",
              "10     LSTAT    2.860251\n",
              "11  CHAS_yes    1.050708"
            ]
          },
          "execution_count": 16,
          "metadata": {},
          "output_type": "execute_result"
        },
        {
          "data": {
            "application/javascript": [
              "\n",
              "            setTimeout(function() {\n",
              "                var nbb_cell_id = 16;\n",
              "                var nbb_unformatted_code = \"col_to_drop = \\\"TAX\\\"\\nX_train2 = X_train.loc[:, ~X_train.columns.str.startswith(col_to_drop)]\\nX_test2 = X_test.loc[:, ~X_test.columns.str.startswith(col_to_drop)]\\n\\n# Check VIF now\\nvif = checking_vif(X_train2)\\nprint(\\\"VIF after dropping \\\", col_to_drop)\\nvif\";\n",
              "                var nbb_formatted_code = \"col_to_drop = \\\"TAX\\\"\\nX_train2 = X_train.loc[:, ~X_train.columns.str.startswith(col_to_drop)]\\nX_test2 = X_test.loc[:, ~X_test.columns.str.startswith(col_to_drop)]\\n\\n# Check VIF now\\nvif = checking_vif(X_train2)\\nprint(\\\"VIF after dropping \\\", col_to_drop)\\nvif\";\n",
              "                var nbb_cells = Jupyter.notebook.get_cells();\n",
              "                for (var i = 0; i < nbb_cells.length; ++i) {\n",
              "                    if (nbb_cells[i].input_prompt_number == nbb_cell_id) {\n",
              "                        if (nbb_cells[i].get_text() == nbb_unformatted_code) {\n",
              "                             nbb_cells[i].set_text(nbb_formatted_code);\n",
              "                        }\n",
              "                        break;\n",
              "                    }\n",
              "                }\n",
              "            }, 500);\n",
              "            "
            ],
            "text/plain": [
              "<IPython.core.display.Javascript object>"
            ]
          },
          "metadata": {},
          "output_type": "display_data"
        }
      ],
      "source": [
        "col_to_drop = \"TAX\"\n",
        "X_train2 = X_train.loc[:, ~X_train.columns.str.startswith(col_to_drop)]\n",
        "X_test2 = X_test.loc[:, ~X_test.columns.str.startswith(col_to_drop)]\n",
        "\n",
        "# Check VIF now\n",
        "vif = checking_vif(X_train2)\n",
        "print(\"VIF after dropping \", col_to_drop)\n",
        "vif"
      ]
    },
    {
      "cell_type": "markdown",
      "metadata": {
        "id": "PHES5B-Fv_cl"
      },
      "source": [
        "- None of the variables show moderate or high multicollinearity."
      ]
    },
    {
      "cell_type": "markdown",
      "metadata": {
        "id": "1yN7Ojubv_cl"
      },
      "source": [
        "### Dropping high p-value variables\n",
        "\n",
        "- We will drop the predictor variables having a p-value greater than 0.05 as they do not significantly impact the target variable.\n",
        "- But sometimes p-values change after dropping a variable. So, we'll not drop all variables at once.\n",
        "- Instead, we will do the following:\n",
        "    - Build a model, check the p-values of the variables, and drop the column with the highest p-value.\n",
        "    - Create a new model without the dropped feature, check the p-values of the variables, and drop the column with the highest p-value.\n",
        "    - Repeat the above two steps till there are no columns with p-value > 0.05.\n",
        "\n",
        "The above process can also be done manually by picking one variable at a time that has a high p-value, dropping it, and building a model again. But that might be a little tedious and using a loop will be more efficient."
      ]
    },
    {
      "cell_type": "code",
      "execution_count": null,
      "metadata": {
        "id": "bbkfXls6v_cl",
        "outputId": "506e626a-dc43-433a-cef8-d866a46f88b0"
      },
      "outputs": [
        {
          "name": "stdout",
          "output_type": "stream",
          "text": [
            "['const', 'CRIM', 'ZN', 'NX', 'RM', 'DIS', 'RAD', 'PTRATIO', 'LSTAT', 'CHAS_yes']\n"
          ]
        },
        {
          "data": {
            "application/javascript": [
              "\n",
              "            setTimeout(function() {\n",
              "                var nbb_cell_id = 17;\n",
              "                var nbb_unformatted_code = \"# initial list of columns\\ncols = X_train2.columns.tolist()\\n\\n# setting an initial max p-value\\nmax_p_value = 1\\n\\nwhile len(cols) > 0:\\n    # defining the train set\\n    x_train_aux = X_train2[cols]\\n\\n    # fitting the model\\n    model = sm.OLS(y_train, x_train_aux).fit()\\n\\n    # getting the p-values and the maximum p-value\\n    p_values = model.pvalues\\n    max_p_value = max(p_values)\\n\\n    # name of the variable with maximum p-value\\n    feature_with_p_max = p_values.idxmax()\\n\\n    if max_p_value > 0.05:\\n        cols.remove(feature_with_p_max)\\n    else:\\n        break\\n\\nselected_features = cols\\nprint(selected_features)\";\n",
              "                var nbb_formatted_code = \"# initial list of columns\\ncols = X_train2.columns.tolist()\\n\\n# setting an initial max p-value\\nmax_p_value = 1\\n\\nwhile len(cols) > 0:\\n    # defining the train set\\n    x_train_aux = X_train2[cols]\\n\\n    # fitting the model\\n    model = sm.OLS(y_train, x_train_aux).fit()\\n\\n    # getting the p-values and the maximum p-value\\n    p_values = model.pvalues\\n    max_p_value = max(p_values)\\n\\n    # name of the variable with maximum p-value\\n    feature_with_p_max = p_values.idxmax()\\n\\n    if max_p_value > 0.05:\\n        cols.remove(feature_with_p_max)\\n    else:\\n        break\\n\\nselected_features = cols\\nprint(selected_features)\";\n",
              "                var nbb_cells = Jupyter.notebook.get_cells();\n",
              "                for (var i = 0; i < nbb_cells.length; ++i) {\n",
              "                    if (nbb_cells[i].input_prompt_number == nbb_cell_id) {\n",
              "                        if (nbb_cells[i].get_text() == nbb_unformatted_code) {\n",
              "                             nbb_cells[i].set_text(nbb_formatted_code);\n",
              "                        }\n",
              "                        break;\n",
              "                    }\n",
              "                }\n",
              "            }, 500);\n",
              "            "
            ],
            "text/plain": [
              "<IPython.core.display.Javascript object>"
            ]
          },
          "metadata": {},
          "output_type": "display_data"
        }
      ],
      "source": [
        "# initial list of columns\n",
        "cols = X_train2.columns.tolist()\n",
        "\n",
        "# setting an initial max p-value\n",
        "max_p_value = 1\n",
        "\n",
        "while len(cols) > 0:\n",
        "    # defining the train set\n",
        "    x_train_aux = X_train2[cols]\n",
        "\n",
        "    # fitting the model\n",
        "    model = sm.OLS(y_train, x_train_aux).fit()\n",
        "\n",
        "    # getting the p-values and the maximum p-value\n",
        "    p_values = model.pvalues\n",
        "    max_p_value = max(p_values)\n",
        "\n",
        "    # name of the variable with maximum p-value\n",
        "    feature_with_p_max = p_values.idxmax()\n",
        "\n",
        "    if max_p_value > 0.05:\n",
        "        cols.remove(feature_with_p_max)\n",
        "    else:\n",
        "        break\n",
        "\n",
        "selected_features = cols\n",
        "print(selected_features)"
      ]
    },
    {
      "cell_type": "code",
      "execution_count": null,
      "metadata": {
        "id": "VxXZOiETv_cl",
        "outputId": "df2215fd-ae24-47d8-ffe7-9ff7e14ac066"
      },
      "outputs": [
        {
          "data": {
            "application/javascript": [
              "\n",
              "            setTimeout(function() {\n",
              "                var nbb_cell_id = 18;\n",
              "                var nbb_unformatted_code = \"X_train3 = X_train2[selected_features]\\nX_test3 = X_test2[selected_features]\";\n",
              "                var nbb_formatted_code = \"X_train3 = X_train2[selected_features]\\nX_test3 = X_test2[selected_features]\";\n",
              "                var nbb_cells = Jupyter.notebook.get_cells();\n",
              "                for (var i = 0; i < nbb_cells.length; ++i) {\n",
              "                    if (nbb_cells[i].input_prompt_number == nbb_cell_id) {\n",
              "                        if (nbb_cells[i].get_text() == nbb_unformatted_code) {\n",
              "                             nbb_cells[i].set_text(nbb_formatted_code);\n",
              "                        }\n",
              "                        break;\n",
              "                    }\n",
              "                }\n",
              "            }, 500);\n",
              "            "
            ],
            "text/plain": [
              "<IPython.core.display.Javascript object>"
            ]
          },
          "metadata": {},
          "output_type": "display_data"
        }
      ],
      "source": [
        "X_train3 = X_train2[selected_features]\n",
        "X_test3 = X_test2[selected_features]"
      ]
    },
    {
      "cell_type": "code",
      "execution_count": null,
      "metadata": {
        "id": "HhIm6bM0v_cl",
        "outputId": "71f575a3-7c62-43ae-c98b-c6642bcde213"
      },
      "outputs": [
        {
          "name": "stdout",
          "output_type": "stream",
          "text": [
            "                            OLS Regression Results                            \n",
            "==============================================================================\n",
            "Dep. Variable:                   MEDV   R-squared:                       0.703\n",
            "Model:                            OLS   Adj. R-squared:                  0.695\n",
            "Method:                 Least Squares   F-statistic:                     90.34\n",
            "Date:                Mon, 17 Jan 2022   Prob (F-statistic):           4.34e-85\n",
            "Time:                        10:56:24   Log-Likelihood:                -1065.8\n",
            "No. Observations:                 354   AIC:                             2152.\n",
            "Df Residuals:                     344   BIC:                             2190.\n",
            "Df Model:                           9                                         \n",
            "Covariance Type:            nonrobust                                         \n",
            "==============================================================================\n",
            "                 coef    std err          t      P>|t|      [0.025      0.975]\n",
            "------------------------------------------------------------------------------\n",
            "const         48.8196      6.092      8.014      0.000      36.838      60.801\n",
            "CRIM          -0.1110      0.043     -2.575      0.010      -0.196      -0.026\n",
            "ZN             0.0475      0.018      2.691      0.007       0.013       0.082\n",
            "NX           -23.4485      4.224     -5.551      0.000     -31.756     -15.141\n",
            "RM             2.7844      0.511      5.451      0.000       1.780       3.789\n",
            "DIS           -1.4930      0.239     -6.235      0.000      -1.964      -1.022\n",
            "RAD            0.1353      0.051      2.643      0.009       0.035       0.236\n",
            "PTRATIO       -1.0477      0.167     -6.268      0.000      -1.376      -0.719\n",
            "LSTAT         -0.5789      0.057    -10.170      0.000      -0.691      -0.467\n",
            "CHAS_yes       2.8779      0.974      2.953      0.003       0.961       4.795\n",
            "==============================================================================\n",
            "Omnibus:                      130.760   Durbin-Watson:                   1.801\n",
            "Prob(Omnibus):                  0.000   Jarque-Bera (JB):              513.168\n",
            "Skew:                           1.587   Prob(JB):                    3.69e-112\n",
            "Kurtosis:                       7.971   Cond. No.                         776.\n",
            "==============================================================================\n",
            "\n",
            "Notes:\n",
            "[1] Standard Errors assume that the covariance matrix of the errors is correctly specified.\n"
          ]
        },
        {
          "data": {
            "application/javascript": [
              "\n",
              "            setTimeout(function() {\n",
              "                var nbb_cell_id = 19;\n",
              "                var nbb_unformatted_code = \"olsmodel2 = sm.OLS(y_train, X_train3).fit()\\nprint(olsmodel2.summary())\";\n",
              "                var nbb_formatted_code = \"olsmodel2 = sm.OLS(y_train, X_train3).fit()\\nprint(olsmodel2.summary())\";\n",
              "                var nbb_cells = Jupyter.notebook.get_cells();\n",
              "                for (var i = 0; i < nbb_cells.length; ++i) {\n",
              "                    if (nbb_cells[i].input_prompt_number == nbb_cell_id) {\n",
              "                        if (nbb_cells[i].get_text() == nbb_unformatted_code) {\n",
              "                             nbb_cells[i].set_text(nbb_formatted_code);\n",
              "                        }\n",
              "                        break;\n",
              "                    }\n",
              "                }\n",
              "            }, 500);\n",
              "            "
            ],
            "text/plain": [
              "<IPython.core.display.Javascript object>"
            ]
          },
          "metadata": {},
          "output_type": "display_data"
        }
      ],
      "source": [
        "olsmodel2 = sm.OLS(y_train, X_train3).fit()\n",
        "print(olsmodel2.summary())"
      ]
    },
    {
      "cell_type": "markdown",
      "metadata": {
        "id": "BTnStqenv_cm"
      },
      "source": [
        "**Observations**\n",
        "\n",
        "- Dropping the high p-value predictor variables has not adversely affected the model performance.\n",
        "- This shows that these variables do not significantly impact the target variable."
      ]
    },
    {
      "cell_type": "markdown",
      "metadata": {
        "id": "lOMhV3y8v_cm"
      },
      "source": [
        "### TEST FOR LINEARITY AND INDEPENDENCE\n",
        "\n",
        "- We will test for linearity and independence by making a plot of fitted values vs residuals and checking for patterns.\n",
        "- If there is no pattern, then we say the model is linear and residuals are independent.\n",
        "- Otherwise, the model is showing signs of non-linearity and residuals are not independent."
      ]
    },
    {
      "cell_type": "code",
      "execution_count": null,
      "metadata": {
        "id": "naX-iXItqH-b",
        "outputId": "96ccd571-f2c6-45b4-e52c-b756ae684432"
      },
      "outputs": [
        {
          "data": {
            "text/html": [
              "<div>\n",
              "<style scoped>\n",
              "    .dataframe tbody tr th:only-of-type {\n",
              "        vertical-align: middle;\n",
              "    }\n",
              "\n",
              "    .dataframe tbody tr th {\n",
              "        vertical-align: top;\n",
              "    }\n",
              "\n",
              "    .dataframe thead th {\n",
              "        text-align: right;\n",
              "    }\n",
              "</style>\n",
              "<table border=\"1\" class=\"dataframe\">\n",
              "  <thead>\n",
              "    <tr style=\"text-align: right;\">\n",
              "      <th></th>\n",
              "      <th>Actual Values</th>\n",
              "      <th>Fitted Values</th>\n",
              "      <th>Residuals</th>\n",
              "    </tr>\n",
              "  </thead>\n",
              "  <tbody>\n",
              "    <tr>\n",
              "      <th>13</th>\n",
              "      <td>20.4</td>\n",
              "      <td>19.428323</td>\n",
              "      <td>0.971677</td>\n",
              "    </tr>\n",
              "    <tr>\n",
              "      <th>61</th>\n",
              "      <td>16.0</td>\n",
              "      <td>17.881985</td>\n",
              "      <td>-1.881985</td>\n",
              "    </tr>\n",
              "    <tr>\n",
              "      <th>377</th>\n",
              "      <td>13.3</td>\n",
              "      <td>18.672515</td>\n",
              "      <td>-5.372515</td>\n",
              "    </tr>\n",
              "    <tr>\n",
              "      <th>39</th>\n",
              "      <td>30.8</td>\n",
              "      <td>31.377965</td>\n",
              "      <td>-0.577965</td>\n",
              "    </tr>\n",
              "    <tr>\n",
              "      <th>365</th>\n",
              "      <td>27.5</td>\n",
              "      <td>16.946181</td>\n",
              "      <td>10.553819</td>\n",
              "    </tr>\n",
              "  </tbody>\n",
              "</table>\n",
              "</div>"
            ],
            "text/plain": [
              "     Actual Values  Fitted Values  Residuals\n",
              "13            20.4      19.428323   0.971677\n",
              "61            16.0      17.881985  -1.881985\n",
              "377           13.3      18.672515  -5.372515\n",
              "39            30.8      31.377965  -0.577965\n",
              "365           27.5      16.946181  10.553819"
            ]
          },
          "execution_count": 20,
          "metadata": {},
          "output_type": "execute_result"
        },
        {
          "data": {
            "application/javascript": [
              "\n",
              "            setTimeout(function() {\n",
              "                var nbb_cell_id = 20;\n",
              "                var nbb_unformatted_code = \"# let us create a dataframe with actual, fitted and residual values\\ndf_pred = pd.DataFrame()\\n\\ndf_pred[\\\"Actual Values\\\"] = y_train  # actual values\\ndf_pred[\\\"Fitted Values\\\"] = olsmodel2.fittedvalues  # predicted values\\ndf_pred[\\\"Residuals\\\"] = olsmodel2.resid  # residuals\\n\\ndf_pred.head()\";\n",
              "                var nbb_formatted_code = \"# let us create a dataframe with actual, fitted and residual values\\ndf_pred = pd.DataFrame()\\n\\ndf_pred[\\\"Actual Values\\\"] = y_train  # actual values\\ndf_pred[\\\"Fitted Values\\\"] = olsmodel2.fittedvalues  # predicted values\\ndf_pred[\\\"Residuals\\\"] = olsmodel2.resid  # residuals\\n\\ndf_pred.head()\";\n",
              "                var nbb_cells = Jupyter.notebook.get_cells();\n",
              "                for (var i = 0; i < nbb_cells.length; ++i) {\n",
              "                    if (nbb_cells[i].input_prompt_number == nbb_cell_id) {\n",
              "                        if (nbb_cells[i].get_text() == nbb_unformatted_code) {\n",
              "                             nbb_cells[i].set_text(nbb_formatted_code);\n",
              "                        }\n",
              "                        break;\n",
              "                    }\n",
              "                }\n",
              "            }, 500);\n",
              "            "
            ],
            "text/plain": [
              "<IPython.core.display.Javascript object>"
            ]
          },
          "metadata": {},
          "output_type": "display_data"
        }
      ],
      "source": [
        "# let us create a dataframe with actual, fitted and residual values\n",
        "df_pred = pd.DataFrame()\n",
        "\n",
        "df_pred[\"Actual Values\"] = y_train  # actual values\n",
        "df_pred[\"Fitted Values\"] = olsmodel2.fittedvalues  # predicted values\n",
        "df_pred[\"Residuals\"] = olsmodel2.resid  # residuals\n",
        "\n",
        "df_pred.head()"
      ]
    },
    {
      "cell_type": "code",
      "execution_count": null,
      "metadata": {
        "id": "nRVjAFK7v_cm",
        "outputId": "9dd2b443-1d0c-4672-a3f1-6050248434a9"
      },
      "outputs": [
        {
          "data": {
            "image/png": "[encoded data removed]",
            "text/plain": [
              "<Figure size 432x288 with 1 Axes>"
            ]
          },
          "metadata": {},
          "output_type": "display_data"
        },
        {
          "data": {
            "application/javascript": [
              "\n",
              "            setTimeout(function() {\n",
              "                var nbb_cell_id = 21;\n",
              "                var nbb_unformatted_code = \"# let's plot the fitted values vs residuals\\n\\nsns.residplot(\\n    data=df_pred, x=\\\"Fitted Values\\\", y=\\\"Residuals\\\", color=\\\"purple\\\", lowess=True\\n)\\nplt.xlabel(\\\"Fitted Values\\\")\\nplt.ylabel(\\\"Residuals\\\")\\nplt.title(\\\"Fitted vs Residual plot\\\")\\nplt.show()\";\n",
              "                var nbb_formatted_code = \"# let's plot the fitted values vs residuals\\n\\nsns.residplot(\\n    data=df_pred, x=\\\"Fitted Values\\\", y=\\\"Residuals\\\", color=\\\"purple\\\", lowess=True\\n)\\nplt.xlabel(\\\"Fitted Values\\\")\\nplt.ylabel(\\\"Residuals\\\")\\nplt.title(\\\"Fitted vs Residual plot\\\")\\nplt.show()\";\n",
              "                var nbb_cells = Jupyter.notebook.get_cells();\n",
              "                for (var i = 0; i < nbb_cells.length; ++i) {\n",
              "                    if (nbb_cells[i].input_prompt_number == nbb_cell_id) {\n",
              "                        if (nbb_cells[i].get_text() == nbb_unformatted_code) {\n",
              "                             nbb_cells[i].set_text(nbb_formatted_code);\n",
              "                        }\n",
              "                        break;\n",
              "                    }\n",
              "                }\n",
              "            }, 500);\n",
              "            "
            ],
            "text/plain": [
              "<IPython.core.display.Javascript object>"
            ]
          },
          "metadata": {},
          "output_type": "display_data"
        }
      ],
      "source": [
        "# let's plot the fitted values vs residuals\n",
        "\n",
        "sns.residplot(\n",
        "    data=df_pred, x=\"Fitted Values\", y=\"Residuals\", color=\"purple\", lowess=True\n",
        ")\n",
        "plt.xlabel(\"Fitted Values\")\n",
        "plt.ylabel(\"Residuals\")\n",
        "plt.title(\"Fitted vs Residual plot\")\n",
        "plt.show()"
      ]
    },
    {
      "cell_type": "markdown",
      "metadata": {
        "id": "rM2_3rFov_cm"
      },
      "source": [
        "**Observations**\n",
        "\n",
        "- We see no pattern in the plot above.\n",
        "- Hence, the assumptions of linearity and independence are satisfied."
      ]
    },
    {
      "cell_type": "markdown",
      "metadata": {
        "id": "Qe2qzrSMv_cm"
      },
      "source": [
        "### TEST FOR NORMALITY\n",
        "\n",
        "- We will test for normality by checking the distribution of residuals, by checking the Q-Q plot of residuals, and by using the Shapiro-Wilk test.\n",
        "- If the residuals follow a normal distribution, they will make a straight line plot, otherwise not.\n",
        "- If the p-value of the Shapiro-Wilk test is greater than 0.05, we can say the residuals are normally distributed."
      ]
    },
    {
      "cell_type": "code",
      "execution_count": null,
      "metadata": {
        "id": "NfQwPxjuv_cm",
        "outputId": "0665b7ad-be6e-4495-9138-001009f41c7e"
      },
      "outputs": [
        {
          "data": {
            "image/png": "[encoded data removed]",
            "text/plain": [
              "<Figure size 432x288 with 1 Axes>"
            ]
          },
          "metadata": {},
          "output_type": "display_data"
        },
        {
          "data": {
            "application/javascript": [
              "\n",
              "            setTimeout(function() {\n",
              "                var nbb_cell_id = 22;\n",
              "                var nbb_unformatted_code = \"sns.histplot(data=df_pred, x=\\\"Residuals\\\", kde=True)\\nplt.title(\\\"Normality of residuals\\\")\\nplt.show()\";\n",
              "                var nbb_formatted_code = \"sns.histplot(data=df_pred, x=\\\"Residuals\\\", kde=True)\\nplt.title(\\\"Normality of residuals\\\")\\nplt.show()\";\n",
              "                var nbb_cells = Jupyter.notebook.get_cells();\n",
              "                for (var i = 0; i < nbb_cells.length; ++i) {\n",
              "                    if (nbb_cells[i].input_prompt_number == nbb_cell_id) {\n",
              "                        if (nbb_cells[i].get_text() == nbb_unformatted_code) {\n",
              "                             nbb_cells[i].set_text(nbb_formatted_code);\n",
              "                        }\n",
              "                        break;\n",
              "                    }\n",
              "                }\n",
              "            }, 500);\n",
              "            "
            ],
            "text/plain": [
              "<IPython.core.display.Javascript object>"
            ]
          },
          "metadata": {},
          "output_type": "display_data"
        }
      ],
      "source": [
        "sns.histplot(data=df_pred, x=\"Residuals\", kde=True)\n",
        "plt.title(\"Normality of residuals\")\n",
        "plt.show()"
      ]
    },
    {
      "cell_type": "markdown",
      "metadata": {
        "id": "INXt3nVlv_cm"
      },
      "source": [
        "**Observations**\n",
        "\n",
        "- The histogram of residuals almost has a bell shape structure.\n",
        "- Let's check the Q-Q plot."
      ]
    },
    {
      "cell_type": "code",
      "execution_count": null,
      "metadata": {
        "id": "IUT4AkJkv_cn",
        "outputId": "db90cb4f-7d47-4587-99e1-3ef635875e51"
      },
      "outputs": [
        {
          "data": {
            "image/png": "[encoded data removed]",
            "text/plain": [
              "<Figure size 432x288 with 1 Axes>"
            ]
          },
          "metadata": {},
          "output_type": "display_data"
        },
        {
          "data": {
            "application/javascript": [
              "\n",
              "            setTimeout(function() {\n",
              "                var nbb_cell_id = 23;\n",
              "                var nbb_unformatted_code = \"import pylab\\nimport scipy.stats as stats\\n\\nstats.probplot(df_pred[\\\"Residuals\\\"], dist=\\\"norm\\\", plot=pylab)\\nplt.show()\";\n",
              "                var nbb_formatted_code = \"import pylab\\nimport scipy.stats as stats\\n\\nstats.probplot(df_pred[\\\"Residuals\\\"], dist=\\\"norm\\\", plot=pylab)\\nplt.show()\";\n",
              "                var nbb_cells = Jupyter.notebook.get_cells();\n",
              "                for (var i = 0; i < nbb_cells.length; ++i) {\n",
              "                    if (nbb_cells[i].input_prompt_number == nbb_cell_id) {\n",
              "                        if (nbb_cells[i].get_text() == nbb_unformatted_code) {\n",
              "                             nbb_cells[i].set_text(nbb_formatted_code);\n",
              "                        }\n",
              "                        break;\n",
              "                    }\n",
              "                }\n",
              "            }, 500);\n",
              "            "
            ],
            "text/plain": [
              "<IPython.core.display.Javascript object>"
            ]
          },
          "metadata": {},
          "output_type": "display_data"
        }
      ],
      "source": [
        "import pylab\n",
        "import scipy.stats as stats\n",
        "\n",
        "stats.probplot(df_pred[\"Residuals\"], dist=\"norm\", plot=pylab)\n",
        "plt.show()"
      ]
    },
    {
      "cell_type": "markdown",
      "metadata": {
        "id": "AaBwB7t3v_cn"
      },
      "source": [
        "**Observations**\n",
        "\n",
        "- The residuals almost follow a straight line.\n",
        "- Let's check the results of the Shapiro-Wilk test."
      ]
    },
    {
      "cell_type": "code",
      "execution_count": null,
      "metadata": {
        "id": "mSm3MU0Av_cn",
        "outputId": "a5ffcdbf-ba38-48b3-a2d9-bb025479fc35"
      },
      "outputs": [
        {
          "data": {
            "text/plain": [
              "ShapiroResult(statistic=0.8942403793334961, pvalue=5.9160474099890364e-15)"
            ]
          },
          "execution_count": 24,
          "metadata": {},
          "output_type": "execute_result"
        },
        {
          "data": {
            "application/javascript": [
              "\n",
              "            setTimeout(function() {\n",
              "                var nbb_cell_id = 24;\n",
              "                var nbb_unformatted_code = \"stats.shapiro(df_pred[\\\"Residuals\\\"])\";\n",
              "                var nbb_formatted_code = \"stats.shapiro(df_pred[\\\"Residuals\\\"])\";\n",
              "                var nbb_cells = Jupyter.notebook.get_cells();\n",
              "                for (var i = 0; i < nbb_cells.length; ++i) {\n",
              "                    if (nbb_cells[i].input_prompt_number == nbb_cell_id) {\n",
              "                        if (nbb_cells[i].get_text() == nbb_unformatted_code) {\n",
              "                             nbb_cells[i].set_text(nbb_formatted_code);\n",
              "                        }\n",
              "                        break;\n",
              "                    }\n",
              "                }\n",
              "            }, 500);\n",
              "            "
            ],
            "text/plain": [
              "<IPython.core.display.Javascript object>"
            ]
          },
          "metadata": {},
          "output_type": "display_data"
        }
      ],
      "source": [
        "stats.shapiro(df_pred[\"Residuals\"])"
      ]
    },
    {
      "cell_type": "markdown",
      "metadata": {
        "id": "wzcKbSZQv_cn"
      },
      "source": [
        "**Observations**\n",
        "\n",
        "- Since p-value < 0.05, the residuals are not normal as per the Shapiro-Wilk test.\n",
        "- However, based on the distribution plot and Q-Q plot, we can consider the distribution to be a good approximation of the normal distribution.\n",
        "- So, the assumption is satisfied."
      ]
    },
    {
      "cell_type": "markdown",
      "metadata": {
        "id": "HUlVUV1Ov_cn"
      },
      "source": [
        "### TEST FOR HOMOSCEDASTICITY\n",
        "\n",
        "- We will test for homoscedasticity by using the goldfeldquandt test.\n",
        "- If we get a p-value greater than 0.05, we can say that the residuals are homoscedastic. Otherwise, they are heteroscedastic."
      ]
    },
    {
      "cell_type": "code",
      "execution_count": null,
      "metadata": {
        "id": "MKtbbgzQv_cn",
        "outputId": "49756fe8-7f7c-47eb-978c-626dffecb8f5"
      },
      "outputs": [
        {
          "data": {
            "text/plain": [
              "[('F statistic', 1.2224599068220499), ('p-value', 0.0976863004418288)]"
            ]
          },
          "execution_count": 25,
          "metadata": {},
          "output_type": "execute_result"
        },
        {
          "data": {
            "application/javascript": [
              "\n",
              "            setTimeout(function() {\n",
              "                var nbb_cell_id = 25;\n",
              "                var nbb_unformatted_code = \"import statsmodels.stats.api as sms\\nfrom statsmodels.compat import lzip\\n\\nname = [\\\"F statistic\\\", \\\"p-value\\\"]\\ntest = sms.het_goldfeldquandt(df_pred[\\\"Residuals\\\"], X_train3)\\nlzip(name, test)\";\n",
              "                var nbb_formatted_code = \"import statsmodels.stats.api as sms\\nfrom statsmodels.compat import lzip\\n\\nname = [\\\"F statistic\\\", \\\"p-value\\\"]\\ntest = sms.het_goldfeldquandt(df_pred[\\\"Residuals\\\"], X_train3)\\nlzip(name, test)\";\n",
              "                var nbb_cells = Jupyter.notebook.get_cells();\n",
              "                for (var i = 0; i < nbb_cells.length; ++i) {\n",
              "                    if (nbb_cells[i].input_prompt_number == nbb_cell_id) {\n",
              "                        if (nbb_cells[i].get_text() == nbb_unformatted_code) {\n",
              "                             nbb_cells[i].set_text(nbb_formatted_code);\n",
              "                        }\n",
              "                        break;\n",
              "                    }\n",
              "                }\n",
              "            }, 500);\n",
              "            "
            ],
            "text/plain": [
              "<IPython.core.display.Javascript object>"
            ]
          },
          "metadata": {},
          "output_type": "display_data"
        }
      ],
      "source": [
        "import statsmodels.stats.api as sms\n",
        "from statsmodels.compat import lzip\n",
        "\n",
        "name = [\"F statistic\", \"p-value\"]\n",
        "test = sms.het_goldfeldquandt(df_pred[\"Residuals\"], X_train3)\n",
        "lzip(name, test)"
      ]
    },
    {
      "cell_type": "markdown",
      "metadata": {
        "id": "IiwHjbE4v_cn"
      },
      "source": [
        "**Observations**\n",
        "\n",
        "- Since p-value > 0.05, the residuals are homoscedastic.\n",
        "- So, the assumption is satisfied."
      ]
    },
    {
      "cell_type": "markdown",
      "metadata": {
        "id": "_5FlroOIv_cn"
      },
      "source": [
        "**All the assumptions of linear regression are satisfied. Let's rebuild our final model, check its performance, and draw inferences from it.**"
      ]
    },
    {
      "cell_type": "markdown",
      "metadata": {
        "id": "jRYSDgFZMKtm"
      },
      "source": [
        "## Final Model Summary"
      ]
    },
    {
      "cell_type": "code",
      "execution_count": null,
      "metadata": {
        "id": "x_Sqvs4TMKtn",
        "outputId": "a2e0c74b-7635-4238-f10a-618843f088a9"
      },
      "outputs": [
        {
          "name": "stdout",
          "output_type": "stream",
          "text": [
            "                            OLS Regression Results                            \n",
            "==============================================================================\n",
            "Dep. Variable:                   MEDV   R-squared:                       0.703\n",
            "Model:                            OLS   Adj. R-squared:                  0.695\n",
            "Method:                 Least Squares   F-statistic:                     90.34\n",
            "Date:                Mon, 17 Jan 2022   Prob (F-statistic):           4.34e-85\n",
            "Time:                        10:56:25   Log-Likelihood:                -1065.8\n",
            "No. Observations:                 354   AIC:                             2152.\n",
            "Df Residuals:                     344   BIC:                             2190.\n",
            "Df Model:                           9                                         \n",
            "Covariance Type:            nonrobust                                         \n",
            "==============================================================================\n",
            "                 coef    std err          t      P>|t|      [0.025      0.975]\n",
            "------------------------------------------------------------------------------\n",
            "const         48.8196      6.092      8.014      0.000      36.838      60.801\n",
            "CRIM          -0.1110      0.043     -2.575      0.010      -0.196      -0.026\n",
            "ZN             0.0475      0.018      2.691      0.007       0.013       0.082\n",
            "NX           -23.4485      4.224     -5.551      0.000     -31.756     -15.141\n",
            "RM             2.7844      0.511      5.451      0.000       1.780       3.789\n",
            "DIS           -1.4930      0.239     -6.235      0.000      -1.964      -1.022\n",
            "RAD            0.1353      0.051      2.643      0.009       0.035       0.236\n",
            "PTRATIO       -1.0477      0.167     -6.268      0.000      -1.376      -0.719\n",
            "LSTAT         -0.5789      0.057    -10.170      0.000      -0.691      -0.467\n",
            "CHAS_yes       2.8779      0.974      2.953      0.003       0.961       4.795\n",
            "==============================================================================\n",
            "Omnibus:                      130.760   Durbin-Watson:                   1.801\n",
            "Prob(Omnibus):                  0.000   Jarque-Bera (JB):              513.168\n",
            "Skew:                           1.587   Prob(JB):                    3.69e-112\n",
            "Kurtosis:                       7.971   Cond. No.                         776.\n",
            "==============================================================================\n",
            "\n",
            "Notes:\n",
            "[1] Standard Errors assume that the covariance matrix of the errors is correctly specified.\n"
          ]
        },
        {
          "data": {
            "application/javascript": [
              "\n",
              "            setTimeout(function() {\n",
              "                var nbb_cell_id = 26;\n",
              "                var nbb_unformatted_code = \"olsmodel_final = sm.OLS(y_train, X_train3).fit()\\nprint(olsmodel_final.summary())\";\n",
              "                var nbb_formatted_code = \"olsmodel_final = sm.OLS(y_train, X_train3).fit()\\nprint(olsmodel_final.summary())\";\n",
              "                var nbb_cells = Jupyter.notebook.get_cells();\n",
              "                for (var i = 0; i < nbb_cells.length; ++i) {\n",
              "                    if (nbb_cells[i].input_prompt_number == nbb_cell_id) {\n",
              "                        if (nbb_cells[i].get_text() == nbb_unformatted_code) {\n",
              "                             nbb_cells[i].set_text(nbb_formatted_code);\n",
              "                        }\n",
              "                        break;\n",
              "                    }\n",
              "                }\n",
              "            }, 500);\n",
              "            "
            ],
            "text/plain": [
              "<IPython.core.display.Javascript object>"
            ]
          },
          "metadata": {},
          "output_type": "display_data"
        }
      ],
      "source": [
        "olsmodel_final = sm.OLS(y_train, X_train3).fit()\n",
        "print(olsmodel_final.summary())"
      ]
    },
    {
      "cell_type": "markdown",
      "metadata": {
        "id": "RZ6rylmxGvSS"
      },
      "source": [
        "### Inferences from the model"
      ]
    },
    {
      "cell_type": "markdown",
      "metadata": {
        "id": "wvbx460VGvSS"
      },
      "source": [
        "- A unit increase in per capita crime rate (`CRIM`) decreases the median house price by 0.1110 units, all other variables held constant.\n",
        "- A unit increase in nitric oxides concentration (`NX`) decreases the median house price by 23.4485 units, all other variables held constant.\n",
        "- A unit increase in average number of rooms (`RM`) increases the median house price by 2.7844 units, all other variables held constant.\n",
        "- A unit increase in index of accessibility to radial highways (`RAD`) increases the median house price by 0.1353 units, all other variables held constant.\n",
        "- Houses where tract bounds river (`CHAS_yes`) will have a 2.8779 units higher median price that the ones where tract does not bound river (`CHAS_no`)."
      ]
    }
  ],
  "metadata": {
    "kernelspec": {
      "display_name": "Python 3 (ipykernel)",
      "language": "python",
      "name": "python3"
    },
    "language_info": {
      "codemirror_mode": {
        "name": "ipython",
        "version": 3
      },
      "file_extension": ".py",
      "mimetype": "text/x-python",
      "name": "python",
      "nbconvert_exporter": "python",
      "pygments_lexer": "ipython3",
      "version": "3.8.5"
    },
    "colab": {
      "provenance": [],
      "include_colab_link": true
    }
  },
  "nbformat": 4,
  "nbformat_minor": 0
}